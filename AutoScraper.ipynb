{
 "cells": [
  {
   "cell_type": "markdown",
   "metadata": {},
   "source": [
    "### Install Autoscrapper"
   ]
  },
  {
   "cell_type": "code",
   "execution_count": 1,
   "metadata": {
    "collapsed": true
   },
   "outputs": [
    {
     "name": "stdout",
     "output_type": "stream",
     "text": [
      "Collecting autoscraper\n",
      "  Downloading https://files.pythonhosted.org/packages/50/44/553afbb7624aaa16e71546196c1f3beb170dd555a2822785889a9da5c2e7/autoscraper-1.1.12-py3-none-any.whl\n",
      "Requirement already satisfied: lxml in c:\\users\\amal.laptop-jcuhdrjj\\anaconda3\\lib\\site-packages (from autoscraper) (4.2.5)\n",
      "Collecting bs4 (from autoscraper)\n",
      "  Using cached https://files.pythonhosted.org/packages/10/ed/7e8b97591f6f456174139ec089c769f89a94a1a4025fe967691de971f314/bs4-0.0.1.tar.gz\n",
      "Requirement already satisfied: requests in c:\\users\\amal.laptop-jcuhdrjj\\anaconda3\\lib\\site-packages (from autoscraper) (2.21.0)\n",
      "Requirement already satisfied: beautifulsoup4 in c:\\users\\amal.laptop-jcuhdrjj\\anaconda3\\lib\\site-packages (from bs4->autoscraper) (4.6.3)\n",
      "Requirement already satisfied: certifi>=2017.4.17 in c:\\users\\amal.laptop-jcuhdrjj\\anaconda3\\lib\\site-packages (from requests->autoscraper) (2018.11.29)\n",
      "Requirement already satisfied: urllib3<1.25,>=1.21.1 in c:\\users\\amal.laptop-jcuhdrjj\\anaconda3\\lib\\site-packages (from requests->autoscraper) (1.24.1)\n",
      "Requirement already satisfied: idna<2.9,>=2.5 in c:\\users\\amal.laptop-jcuhdrjj\\anaconda3\\lib\\site-packages (from requests->autoscraper) (2.8)\n",
      "Requirement already satisfied: chardet<3.1.0,>=3.0.2 in c:\\users\\amal.laptop-jcuhdrjj\\anaconda3\\lib\\site-packages (from requests->autoscraper) (3.0.4)\n",
      "Building wheels for collected packages: bs4\n",
      "  Running setup.py bdist_wheel for bs4: started\n",
      "  Running setup.py bdist_wheel for bs4: finished with status 'done'\n",
      "  Stored in directory: C:\\Users\\Amal.LAPTOP-JCUHDRJJ\\AppData\\Local\\pip\\Cache\\wheels\\a0\\b0\\b2\\4f80b9456b87abedbc0bf2d52235414c3467d8889be38dd472\n",
      "Successfully built bs4\n",
      "Installing collected packages: bs4, autoscraper\n",
      "Successfully installed autoscraper-1.1.12 bs4-0.0.1\n"
     ]
    }
   ],
   "source": [
    "!pip install autoscraper"
   ]
  },
  {
   "cell_type": "markdown",
   "metadata": {},
   "source": [
    "# Github"
   ]
  },
  {
   "cell_type": "code",
   "execution_count": 1,
   "metadata": {},
   "outputs": [
    {
     "data": {
      "text/plain": [
       "['AutoScraper',\n",
       " 'ML_Assignments',\n",
       " 'Natural_Language_Processing',\n",
       " 'amalaj7',\n",
       " 'AmazonProductReviews',\n",
       " 'Pyspark-Notes',\n",
       " 'Flipkart_ProductReview_Scraping',\n",
       " 'Word-Frequency-In-WebPages',\n",
       " 'waferops']"
      ]
     },
     "execution_count": 1,
     "metadata": {},
     "output_type": "execute_result"
    }
   ],
   "source": [
    "from autoscraper import AutoScraper\n",
    "\n",
    "url = 'https://github.com/amalaj7?tab=repositories'\n",
    "\n",
    "wanted_list = ['ML_Assignments']\n",
    "\n",
    "scraper = AutoScraper()\n",
    "scraper.build(url, wanted_list)"
   ]
  },
  {
   "cell_type": "code",
   "execution_count": 2,
   "metadata": {},
   "outputs": [
    {
     "data": {
      "text/plain": [
       "{'rule_67ta': ['AutoScraper',\n",
       "  'ML_Assignments',\n",
       "  'Natural_Language_Processing',\n",
       "  'amalaj7',\n",
       "  'AmazonProductReviews',\n",
       "  'Pyspark-Notes',\n",
       "  'Flipkart_ProductReview_Scraping',\n",
       "  'Word-Frequency-In-WebPages',\n",
       "  'waferops']}"
      ]
     },
     "execution_count": 2,
     "metadata": {},
     "output_type": "execute_result"
    }
   ],
   "source": [
    "scraper.get_result_similar(\"https://github.com/amalaj7?tab=repositories\",grouped=True)"
   ]
  },
  {
   "cell_type": "code",
   "execution_count": 3,
   "metadata": {},
   "outputs": [],
   "source": [
    "scraper.set_rule_aliases({'rule_67ta': 'repository'})\n",
    "scraper.keep_rules(['rule_67ta'])"
   ]
  },
  {
   "cell_type": "code",
   "execution_count": 4,
   "metadata": {},
   "outputs": [
    {
     "data": {
      "text/plain": [
       "{'repository': ['chabot_video_codes',\n",
       "  'MachineLearningModelToPivotal',\n",
       "  'MachineLearningModelToAzure',\n",
       "  'MachineLearningModelToHeroku',\n",
       "  'MachineLearningModelToGCP',\n",
       "  'flaskWeatherApp',\n",
       "  'MachineLearningModelToAWS',\n",
       "  'same-resume-year-wise',\n",
       "  'interview-question-data-science-',\n",
       "  'sudhtest87435353',\n",
       "  '-bigsparkrepo',\n",
       "  'deep-learning-drizzle\\n\\n\\n          Forked from kmario23/deep-learning-drizzle',\n",
       "  'Ineuron-Arhcitecture',\n",
       "  'zomatoEDA',\n",
       "  'A',\n",
       "  'assignmentrepo',\n",
       "  'allMLProjects',\n",
       "  'TimeSeries',\n",
       "  'assignemnt-',\n",
       "  'code',\n",
       "  'xyz',\n",
       "  'waffer-project',\n",
       "  'DeepLearningDocs',\n",
       "  'webscrappper_text',\n",
       "  'DecisionTrees',\n",
       "  'PrincipalComponentAnalysis',\n",
       "  'Working-with-MongoDB',\n",
       "  'imageScrapper\\n\\n\\n          Forked from viratsagar/imageScrapper',\n",
       "  'Chatbots_using_Dialogflow',\n",
       "  'AzureWeatherBot']}"
      ]
     },
     "execution_count": 4,
     "metadata": {},
     "output_type": "execute_result"
    }
   ],
   "source": [
    "result=scraper.get_result_similar(\"https://github.com/iNeuronai?tab=repositories\",group_by_alias=True)\n",
    "result"
   ]
  },
  {
   "cell_type": "markdown",
   "metadata": {},
   "source": [
    "# Wikipedia"
   ]
  },
  {
   "cell_type": "code",
   "execution_count": null,
   "metadata": {},
   "outputs": [],
   "source": [
    "## cnn "
   ]
  },
  {
   "cell_type": "code",
   "execution_count": 38,
   "metadata": {
    "collapsed": true
   },
   "outputs": [
    {
     "name": "stdout",
     "output_type": "stream",
     "text": [
      "['Neuromorphic engineering', 'Attention', 'Julia', 'Artificial Intelligence', 'SpiNNaker', 'Theano', 'Yann LeCun', 'Google Brain', 'Deep learning', 'Regularization (mathematics)', 'Artificial neuron', 'Filter (signal processing)', 'Convolution', 'Multilayer perceptron', 'Tensor', 'Receptive field', 'Feature (machine learning)', 'David H. Hubel', 'Neocognitron', 'Backpropagation', 'Time delay neural network', 'Syllable', 'ZIP Code', 'Computer vision', 'Mammography', 'Electromyography', 'Graphics processing unit', 'Machine learning', 'Coprocessor', 'CIFAR-10', 'Locality of reference', 'Visual cortex', 'Sparse network', 'Hyperparameter optimization', 'Hyperparameter (machine learning)', 'Integer', 'Downsampling (signal processing)', 'Memory footprint', 'Average', 'Region of interest', 'Object detection', 'Rectifier (neural networks)', 'Sigmoid function', 'Artificial neural network', 'Loss function', 'Softmax function', 'Overfitting', 'Dimensionality reduction', 'Equivariant map', 'Expected value', 'Deterministic algorithm', 'MNIST database', 'Elastic net regularization', 'Sparse approximation', 'Retina', 'Visual system', 'Per-comparison error rate', 'Facial recognition system', 'DeepDream', 'Long short-term memory', 'Natural language processing', 'Drug discovery', 'Time series', 'Draughts', 'Computer Go', 'AlphaGo', 'Clay tablet', 'Q-learning', 'Atari 2600', 'Deep belief network', 'deep learning', 'regularized', 'neurons', 'filters', 'convolution', 'hidden layers', 'tensor', 'receptive field', 'features', 'Hubel', 'neocognitron', 'backpropagation', 'time delay neural network', 'syllable', 'computer vision', 'LeCun', 'mammograms', 'electromyography', 'graphics processing units', 'machine learning', 'coprocessor', 'multilayer perceptron', 'locality of reference', 'visual cortex', 'vision problems', 'sparse local connectivity', 'hyperparameter', 'hyperparameters', 'integer', 'down-sampling', 'memory footprint', 'average', 'Region of Interest', 'object detection', 'rectified linear unit', 'sigmoid function', 'artificial neural networks', 'loss function', 'Softmax', 'overfitting', 'downsampled', 'reduce the dimension', 'equivariant', 'Regularization', 'expected value', 'deterministic', 'MNIST data set', 'projected gradient descent', 'retina', 'visual system', 'error rate', 'facial recognition', 'natural language processing', 'drug discovery', 'time series', 'checkers', 'computer Go', 'clay tablets', 'deep belief networks', 'Convolutional neural network']\n"
     ]
    }
   ],
   "source": [
    "from autoscraper import AutoScraper\n",
    "\n",
    "url = 'https://en.wikipedia.org/wiki/Convolutional_neural_network'\n",
    "\n",
    "wanted_list = [\"Yann LeCun\",'Convolutional neural network']\n",
    "\n",
    "scraper = AutoScraper()\n",
    "result = scraper.build(url, wanted_list)\n",
    "print(result)"
   ]
  },
  {
   "cell_type": "code",
   "execution_count": 39,
   "metadata": {},
   "outputs": [
    {
     "data": {
      "text/plain": [
       "{'rule_nilk': [],\n",
       " 'rule_xuy5': ['Convolutional neural network',\n",
       "  'Convolutional neural network',\n",
       "  'Yann LeCun',\n",
       "  'Léon Bottou',\n",
       "  'Convolution',\n",
       "  'Yann LeCun',\n",
       "  'Convolutional neural network',\n",
       "  'Convolutional neural network'],\n",
       " 'rule_davt': ['convolutional neural network',\n",
       "  'convolutional neural networks',\n",
       "  'Yann LeCun',\n",
       "  'Leon Bottou',\n",
       "  'convolution layer',\n",
       "  'Yann LeCun',\n",
       "  'CNN',\n",
       "  'CNN'],\n",
       " 'rule_u6gv': [],\n",
       " 'rule_sukb': ['LeNet']}"
      ]
     },
     "execution_count": 39,
     "metadata": {},
     "output_type": "execute_result"
    }
   ],
   "source": [
    "scraper.get_result_similar(\"https://en.wikipedia.org/wiki/LeNet\",grouped=True)"
   ]
  },
  {
   "cell_type": "code",
   "execution_count": 40,
   "metadata": {},
   "outputs": [],
   "source": [
    "scraper.set_rule_aliases({'rule_xuy5':'CNN','rule_davt':'CNN and its founders '\n",
    "                          ,'rule_sukb':'CNN modelName'})\n",
    "scraper.keep_rules(['rule_xuy5', 'rule_davt','rule_sukb'])"
   ]
  },
  {
   "cell_type": "code",
   "execution_count": 41,
   "metadata": {},
   "outputs": [],
   "source": [
    "result=scraper.get_result_similar(\"https://en.wikipedia.org/wiki/LeNet\",group_by_alias=True)"
   ]
  },
  {
   "cell_type": "code",
   "execution_count": 42,
   "metadata": {},
   "outputs": [
    {
     "data": {
      "text/plain": [
       "{'CNN': ['Convolutional neural network',\n",
       "  'Convolutional neural network',\n",
       "  'Yann LeCun',\n",
       "  'Léon Bottou',\n",
       "  'Convolution',\n",
       "  'Yann LeCun',\n",
       "  'Convolutional neural network',\n",
       "  'Convolutional neural network'],\n",
       " 'CNN and its founders ': ['convolutional neural network',\n",
       "  'convolutional neural networks',\n",
       "  'Yann LeCun',\n",
       "  'Leon Bottou',\n",
       "  'convolution layer',\n",
       "  'Yann LeCun',\n",
       "  'CNN',\n",
       "  'CNN'],\n",
       " 'CNN modelName': ['LeNet']}"
      ]
     },
     "execution_count": 42,
     "metadata": {},
     "output_type": "execute_result"
    }
   ],
   "source": [
    "result"
   ]
  },
  {
   "cell_type": "markdown",
   "metadata": {},
   "source": [
    "# Flipkart"
   ]
  },
  {
   "cell_type": "code",
   "execution_count": 5,
   "metadata": {},
   "outputs": [
    {
     "name": "stdout",
     "output_type": "stream",
     "text": [
      "['APPLE iPhone 11 (Black, 64 GB)', 'APPLE iPhone 11 (White, 64 GB)', 'APPLE iPhone 11 (Purple, 64 GB)', 'CASVO 10\" Professional big LED Ring Light With 6 Feet T...', 'APPLE iPhone 11 (Red, 64 GB)', 'APPLE iPhone SE (Black, 64 GB)', 'Apple iPhone XR (Black, 64 GB) (Includes EarPods, Power...', 'APPLE iPhone 11 (Black, 128 GB)', 'Apple iPhone XR (Black, 128 GB) (Includes EarPods, Powe...', 'Apple iPhone XR (White, 128 GB) (Includes EarPods, Powe...', 'APPLE iPhone SE (White, 64 GB)', 'APPLE iPhone SE (White, 128 GB)', 'APPLE iPhone 12 (Black, 128 GB)', 'CZARTECH Tempered Glass Guard for Apple iPhone XS Max, ...', 'Case Plus White Audio Adapter 3.5 mm Jack Converter Hea...', 'APPLE iPhone SE (Black, 128 GB)', 'APPLE iPhone 12 (White, 64 GB)', 'APPLE iPhone 12 Mini (Blue, 128 GB)', 'APPLE iPhone 12 (Blue, 64 GB)', 'CZARTECH Tempered Glass Guard for Apple iPhone 12, Appl...', 'APPLE iPhone 12 Mini (Black, 128 GB)', 'Apple iPhone XR ((PRODUCT)RED, 128 GB) (Includes EarPod...', 'APPLE iPhone 11 (Green, 64 GB)', 'APPLE iPhone 12 Mini (Black, 64 GB)', 'APPLE iPhone 12 (White, 128 GB)', 'APPLE iPhone 11 Pro (Midnight Green, 64 GB)', 'APPLE iPhone 12 (Blue, 128 GB)', 'APPLE iPhone 12 (Green, 128 GB)', 'RR Gallery Front and Back Tempered Glass for Apple iPho...', 'Apple iPhone SE (Black, 256 GB) (Includes EarPods, Powe...', 'APPLE iPhone 12 (White, 256 GB)', 'APPLE iPhone 12 Mini (White, 128 GB)', 'APPLE iPhone 12 Pro (Pacific Blue, 256 GB)', 'Apple iPhone SE (White, 256 GB) (Includes EarPods, Powe...', 'APPLE iPhone 12 (Red, 128 GB)', 'APPLE iPhone 12 Pro (Graphite, 128 GB)', 'APPLE iPhone 12 Mini (Red, 64 GB)', 'Apple iPhone XR (White, 64 GB) (Includes EarPods, Power...', 'APPLE iPhone 12 Pro (Pacific Blue, 128 GB)', 'APPLE iPhone 12 Pro Max (Pacific Blue, 128 GB)', 'CASVO 10', 'Apple iPhone XR (Black, 64 GB) (Includes EarPods, Power Adapter)', 'Apple iPhone XR (Black, 128 GB) (Includes EarPods, Power Adapter)', 'Apple iPhone XR (White, 128 GB) (Includes EarPods, Power Adapter)', 'CZARTECH Tempered Glass Guard for Apple iPhone XS Max, iPhone 11 Pro Max', 'Case Plus White Audio Adapter 3.5 mm Jack Converter Headphone Jack Adapter Connector Support Music Control & Calling Function for iPhone Xs MAX/XR/X/8/7/Plus/6S/6/SE/5S/5C/Pad/for All iOS Devices Phone Converter', 'CZARTECH Tempered Glass Guard for Apple iPhone 12, Apple iPhone 12 pro', 'Apple iPhone XR ((PRODUCT)RED, 128 GB) (Includes EarPods, Power Adapter)', 'RR Gallery Front and Back Tempered Glass for Apple iPhone 11', 'Apple iPhone SE (Black, 256 GB) (Includes EarPods, Power Adapter)', 'Apple iPhone SE (White, 256 GB) (Includes EarPods, Power Adapter)', 'Apple iPhone XR (White, 64 GB) (Includes EarPods, Power Adapter)', '₹46,999', '₹51,999', '₹994', '₹32,999', '₹41,999', '₹56,999', '₹37,999', '₹82,900', '₹199', '₹329', '₹77,900', '₹70,900', '₹449', '₹65,900', '₹79,999', '₹249', '₹47,999', '₹92,900', '₹1,25,900', '₹1,15,900']\n"
     ]
    }
   ],
   "source": [
    "from autoscraper import AutoScraper\n",
    "\n",
    "url = 'https://www.flipkart.com/search?q=iphone'\n",
    "\n",
    "wanted_list = ['APPLE iPhone 11 (Black, 64 GB)','₹46,999',\n",
    "               'https://www.flipkart.com/apple-iphone-11-black-64-gb/']\n",
    "\n",
    "scraper = AutoScraper()\n",
    "result = scraper.build(url, wanted_list)\n",
    "print(result)"
   ]
  },
  {
   "cell_type": "code",
   "execution_count": 6,
   "metadata": {},
   "outputs": [
    {
     "data": {
      "text/plain": [
       "{'rule_wyg6': ['APPLE iPhone 11 Pro (Midnight Green, 64 GB)',\n",
       "  'ViVO V11 Pro (Starry Night Black, 64 GB)',\n",
       "  'ViVO V11 Pro (Dazzling Gold, 64 GB)',\n",
       "  'FIVE-O Edge To Edge Tempered Glass for Mi Redmi Note 5 ...',\n",
       "  'APPLE iPhone 11 Pro (Space Grey, 64 GB)',\n",
       "  'OPPO Wall Charger Accessory Combo for All Mobile Phones',\n",
       "  'CEDO XPRO Edge To Edge Tempered Glass for Apple iPhone ...',\n",
       "  'D & Y Edge To Edge Tempered Glass for Apple iPhone 11 P...',\n",
       "  'MOBIVIILE Edge To Edge Tempered Glass for Apple iPad Pr...',\n",
       "  'Lenovo Tab P11 Pro 6 GB RAM 128 GB ROM 11.5 inch with W...',\n",
       "  'Flipkart SmartBuy Edge To Edge Tempered Glass for Vivo ...',\n",
       "  'TexoVera Edge To Edge Tempered Glass for Vivo X60 Pro',\n",
       "  'Hupshy Edge To Edge Tempered Glass for OPPO F11 Pro, OP...',\n",
       "  'Hupshy Edge To Edge Tempered Glass for Realme Narzo 30 ...',\n",
       "  'Flipkart SmartBuy Edge To Edge Tempered Glass for Realm...',\n",
       "  'RidivishN Edge To Edge Tempered Glass for Mi Redmi Note...',\n",
       "  'Karpine Front and Back Screen Guard for OPPO F11 Pro',\n",
       "  'CallSmith Back Screen Guard for Apple iPhone 11 Pro Bac...',\n",
       "  'MOBIVIILE Tempered Glass Guard for Vivo V11 Pro, Vivo V...',\n",
       "  'TECHSHIELD Edge To Edge Tempered Glass for Apple ipad A...',\n",
       "  'VILLA Tempered Glass Guard for Vivo V15 Pro',\n",
       "  'GS Smart Front and Back Tempered Glass for Apple iPhone...',\n",
       "  'MOBIVIILE Tempered Glass Guard for Realme 5 Pro, Oppo F...',\n",
       "  'NAXTON Impossible Screen Guard for IPHONE 11PRO',\n",
       "  'DUDAO 10000 mAh Power Bank (18 W, Quick Charge 2.0)',\n",
       "  'Power Up 10000 mAh Power Bank',\n",
       "  'VILLA Tempered Glass Guard for Vivo Z1 pro',\n",
       "  'VILLA Tempered Glass Guard for Realme 2 Pro',\n",
       "  'D & Y Edge To Edge Tempered Glass for Apple iPhone 11 P...',\n",
       "  'Techstuff Edge To Edge Tempered Glass for APPLE I PHONE...',\n",
       "  'VILLA Tempered Glass Guard for Vivo V15 Pro',\n",
       "  'TheBroCool Edge To Edge Tempered Glass for Vivo V11 Pro',\n",
       "  'Akkase Edge To Edge Tempered Glass for Redmi Note 7, Re...',\n",
       "  'Red Robin Edge To Edge Tempered Glass for Vivo V11 Pro',\n",
       "  'VaiMi Tempered Glass Guard for Apple iPhone X, Apple iP...',\n",
       "  'SOLIVAGANT Front and Back Tempered Glass for iPhone 11 ...',\n",
       "  'Duepio Front and Back Screen Guard for Oppo F11 Pro',\n",
       "  'CASESUTRA Back Screen Guard for Apple iPhone 11 Pro',\n",
       "  'VaiMi Tempered Glass Guard for Vivo V11 Pro',\n",
       "  'Red Robin Edge To Edge Tempered Glass for Vivo V11 Pro'],\n",
       " 'rule_ph43': ['APPLE iPhone 11 Pro (Midnight Green, 64 GB)',\n",
       "  'ViVO V11 Pro (Starry Night Black, 64 GB)',\n",
       "  'ViVO V11 Pro (Dazzling Gold, 64 GB)',\n",
       "  'FIVE-O Edge To Edge Tempered Glass for Mi Redmi Note 5 Pro',\n",
       "  'OPPO Wall Charger Accessory Combo for All Mobile Phones',\n",
       "  'CEDO XPRO Edge To Edge Tempered Glass for Apple iPhone X, Apple iPhone XS, Apple iPhone 11 Pro',\n",
       "  'D & Y Edge To Edge Tempered Glass for Apple iPhone 11 Pro, Apple iPhone X, Apple iPhone XS',\n",
       "  'MOBIVIILE Edge To Edge Tempered Glass for Apple iPad Pro 11 inch, Apple iPad Air 4 10.9 inch New 2020 Model',\n",
       "  'Lenovo Tab P11 Pro 6 GB RAM 128 GB ROM 11.5 inch with Wi-Fi+4G Tablet (Slate Grey)',\n",
       "  'Flipkart SmartBuy Edge To Edge Tempered Glass for Vivo V11 Pro',\n",
       "  'TexoVera Edge To Edge Tempered Glass for Vivo X60 Pro',\n",
       "  'Hupshy Edge To Edge Tempered Glass for OPPO F11 Pro, OPPO K3, Realme X',\n",
       "  'Hupshy Edge To Edge Tempered Glass for Realme Narzo 30 Pro 5G',\n",
       "  'Flipkart SmartBuy Edge To Edge Tempered Glass for Realme 6, Realme 6i, Realme 7, Realme 7i, Realme Narzo 20 Pro, Oppo A52, Realme X7 Pro, Oppo Reno2 F, OPPO Reno 2z, Vivo Z1 Pro',\n",
       "  'RidivishN Edge To Edge Tempered Glass for Mi Redmi Note 8 Pro',\n",
       "  'Karpine Front and Back Screen Guard for OPPO F11 Pro',\n",
       "  'CallSmith Back Screen Guard for Apple iPhone 11 Pro Back Shield 9H Anti-Smudge Glossy Finish Tempered Glass with Apple logo',\n",
       "  'MOBIVIILE Tempered Glass Guard for Vivo V11 Pro, Vivo V11',\n",
       "  'TECHSHIELD Edge To Edge Tempered Glass for Apple ipad Air 4th generation/ Ipad pro 11 (2020/2018)',\n",
       "  'VILLA Tempered Glass Guard for Vivo V15 Pro',\n",
       "  'GS Smart Front and Back Tempered Glass for Apple iPhone 11 Pro {Flexible}',\n",
       "  'MOBIVIILE Tempered Glass Guard for Realme 5 Pro, Oppo F11 Pro, Realme X, OPPO K3',\n",
       "  'NAXTON Impossible Screen Guard for IPHONE 11PRO',\n",
       "  'DUDAO 10000 mAh Power Bank (18 W, Quick Charge 2.0)',\n",
       "  'Power Up 10000 mAh Power Bank',\n",
       "  'VILLA Tempered Glass Guard for Vivo Z1 pro',\n",
       "  'VILLA Tempered Glass Guard for Realme 2 Pro',\n",
       "  'D & Y Edge To Edge Tempered Glass for Apple iPhone 11 Pro max, Apple iPhone XS Pro max',\n",
       "  'Techstuff Edge To Edge Tempered Glass for APPLE I PHONE 11, APPLIE I PHONE XR',\n",
       "  'VILLA Tempered Glass Guard for Vivo V15 Pro',\n",
       "  'TheBroCool Edge To Edge Tempered Glass for Vivo V11 Pro',\n",
       "  'Akkase Edge To Edge Tempered Glass for Redmi Note 7, Redmi Note 7 Pro',\n",
       "  'Red Robin Edge To Edge Tempered Glass for Vivo V11 Pro',\n",
       "  'VaiMi Tempered Glass Guard for Apple iPhone X, Apple iPhone XS, Apple iPhone 11 Pro',\n",
       "  'SOLIVAGANT Front and Back Tempered Glass for iPhone 11 Pro Max',\n",
       "  'Duepio Front and Back Screen Guard for Oppo F11 Pro',\n",
       "  'CASESUTRA Back Screen Guard for Apple iPhone 11 Pro',\n",
       "  'VaiMi Tempered Glass Guard for Vivo V11 Pro',\n",
       "  'Red Robin Edge To Edge Tempered Glass for Vivo V11 Pro'],\n",
       " 'rule_butl': ['₹79,999',\n",
       "  '₹28,990',\n",
       "  '₹22,654',\n",
       "  '₹229',\n",
       "  '₹79,999',\n",
       "  '₹319',\n",
       "  '₹195',\n",
       "  '₹399',\n",
       "  '₹501',\n",
       "  '₹44,990',\n",
       "  '₹168',\n",
       "  '₹699',\n",
       "  '₹179',\n",
       "  '₹179',\n",
       "  '₹199',\n",
       "  '₹199',\n",
       "  '₹219',\n",
       "  '₹269',\n",
       "  '₹219',\n",
       "  '₹479',\n",
       "  '₹142',\n",
       "  '₹199',\n",
       "  '₹248',\n",
       "  '₹199',\n",
       "  '₹969',\n",
       "  '₹999',\n",
       "  '₹138',\n",
       "  '₹142',\n",
       "  '₹399',\n",
       "  '₹196',\n",
       "  '₹205',\n",
       "  '₹224',\n",
       "  '₹229',\n",
       "  '₹199',\n",
       "  '₹299',\n",
       "  '₹189',\n",
       "  '₹229',\n",
       "  '₹152',\n",
       "  '₹195',\n",
       "  '₹199'],\n",
       " 'rule_sb4q': ['₹79,999',\n",
       "  '₹28,990',\n",
       "  '₹22,654',\n",
       "  '₹229',\n",
       "  '₹79,999',\n",
       "  '₹319',\n",
       "  '₹195',\n",
       "  '₹399',\n",
       "  '₹501',\n",
       "  '₹44,990',\n",
       "  '₹168',\n",
       "  '₹699',\n",
       "  '₹179',\n",
       "  '₹179',\n",
       "  '₹199',\n",
       "  '₹199',\n",
       "  '₹219',\n",
       "  '₹269',\n",
       "  '₹219',\n",
       "  '₹479',\n",
       "  '₹142',\n",
       "  '₹199',\n",
       "  '₹248',\n",
       "  '₹199',\n",
       "  '₹969',\n",
       "  '₹999',\n",
       "  '₹138',\n",
       "  '₹142',\n",
       "  '₹399',\n",
       "  '₹196',\n",
       "  '₹205',\n",
       "  '₹224',\n",
       "  '₹229',\n",
       "  '₹199',\n",
       "  '₹299',\n",
       "  '₹189',\n",
       "  '₹229',\n",
       "  '₹152',\n",
       "  '₹195',\n",
       "  '₹199'],\n",
       " 'rule_akwr': ['₹79,999',\n",
       "  '₹28,990',\n",
       "  '₹22,654',\n",
       "  '₹229',\n",
       "  '₹79,999',\n",
       "  '₹319',\n",
       "  '₹195',\n",
       "  '₹399',\n",
       "  '₹501',\n",
       "  '₹44,990',\n",
       "  '₹168',\n",
       "  '₹699',\n",
       "  '₹179',\n",
       "  '₹179',\n",
       "  '₹199',\n",
       "  '₹199',\n",
       "  '₹219',\n",
       "  '₹269',\n",
       "  '₹219',\n",
       "  '₹479',\n",
       "  '₹142',\n",
       "  '₹199',\n",
       "  '₹248',\n",
       "  '₹199',\n",
       "  '₹969',\n",
       "  '₹999',\n",
       "  '₹138',\n",
       "  '₹142',\n",
       "  '₹399',\n",
       "  '₹196',\n",
       "  '₹205',\n",
       "  '₹224',\n",
       "  '₹229',\n",
       "  '₹199',\n",
       "  '₹299',\n",
       "  '₹189',\n",
       "  '₹229',\n",
       "  '₹152',\n",
       "  '₹195',\n",
       "  '₹199'],\n",
       " 'rule_58fw': ['₹79,999',\n",
       "  '₹28,990',\n",
       "  '₹22,654',\n",
       "  '₹229',\n",
       "  '₹79,999',\n",
       "  '₹319',\n",
       "  '₹195',\n",
       "  '₹399',\n",
       "  '₹501',\n",
       "  '₹44,990',\n",
       "  '₹168',\n",
       "  '₹699',\n",
       "  '₹179',\n",
       "  '₹179',\n",
       "  '₹199',\n",
       "  '₹199',\n",
       "  '₹219',\n",
       "  '₹269',\n",
       "  '₹219',\n",
       "  '₹479',\n",
       "  '₹142',\n",
       "  '₹199',\n",
       "  '₹248',\n",
       "  '₹199',\n",
       "  '₹969',\n",
       "  '₹999',\n",
       "  '₹138',\n",
       "  '₹142',\n",
       "  '₹399',\n",
       "  '₹196',\n",
       "  '₹205',\n",
       "  '₹224',\n",
       "  '₹229',\n",
       "  '₹199',\n",
       "  '₹299',\n",
       "  '₹189',\n",
       "  '₹229',\n",
       "  '₹152',\n",
       "  '₹195',\n",
       "  '₹199'],\n",
       " 'rule_dtl5': ['₹79,999',\n",
       "  '₹28,990',\n",
       "  '₹22,654',\n",
       "  '₹229',\n",
       "  '₹79,999',\n",
       "  '₹319',\n",
       "  '₹195',\n",
       "  '₹399',\n",
       "  '₹501',\n",
       "  '₹44,990',\n",
       "  '₹168',\n",
       "  '₹699',\n",
       "  '₹179',\n",
       "  '₹179',\n",
       "  '₹199',\n",
       "  '₹199',\n",
       "  '₹219',\n",
       "  '₹269',\n",
       "  '₹219',\n",
       "  '₹479',\n",
       "  '₹142',\n",
       "  '₹199',\n",
       "  '₹248',\n",
       "  '₹199',\n",
       "  '₹969',\n",
       "  '₹999',\n",
       "  '₹138',\n",
       "  '₹142',\n",
       "  '₹399',\n",
       "  '₹196',\n",
       "  '₹205',\n",
       "  '₹224',\n",
       "  '₹229',\n",
       "  '₹199',\n",
       "  '₹299',\n",
       "  '₹189',\n",
       "  '₹229',\n",
       "  '₹152',\n",
       "  '₹195',\n",
       "  '₹199']}"
      ]
     },
     "execution_count": 6,
     "metadata": {},
     "output_type": "execute_result"
    }
   ],
   "source": [
    "scraper.get_result_similar(\"https://www.flipkart.com/search?q=11 pro\",grouped=True)"
   ]
  },
  {
   "cell_type": "code",
   "execution_count": 13,
   "metadata": {},
   "outputs": [],
   "source": [
    "scraper.set_rule_aliases({'rule_wyg6':'Products','rule_butl':'Price '})\n",
    "scraper.keep_rules(['rule_wyg6', 'rule_butl','rule_sukb'])"
   ]
  },
  {
   "cell_type": "code",
   "execution_count": 16,
   "metadata": {},
   "outputs": [
    {
     "data": {
      "text/plain": [
       "{'Products': ['APPLE iPhone 11 Pro (Midnight Green, 64 GB)',\n",
       "  'APPLE iPhone 11 Pro (Midnight Green, 512 GB)',\n",
       "  'APPLE iPhone 11 Pro (Space Grey, 512 GB)',\n",
       "  'FIVE-O Edge To Edge Tempered Glass for Mi Redmi Note 5 ...',\n",
       "  'APPLE iPhone 11 Pro (Space Grey, 256 GB)',\n",
       "  'APPLE iPhone 11 Pro Max (Gold, 64 GB)',\n",
       "  'APPLE iPhone 11 Pro Max (Midnight Green, 256 GB)',\n",
       "  'APPLE iPhone 11 Pro Max (Midnight Green, 64 GB)',\n",
       "  'APPLE iPhone 11 Pro Max (Space Grey, 64 GB)',\n",
       "  'ViVO V11 Pro (Starry Night Black, 64 GB)',\n",
       "  'OPPO F11 Pro Marvel’s Avengers Limited Edition (Space B...',\n",
       "  'ViVO V11 Pro (Dazzling Gold, 64 GB)',\n",
       "  'OPPO Wall Charger Accessory Combo for All Mobile Phones',\n",
       "  'Hupshy Edge To Edge Tempered Glass for Realme Narzo 30 ...',\n",
       "  'CEDO XPRO Edge To Edge Tempered Glass for Apple iPhone ...',\n",
       "  'D & Y Edge To Edge Tempered Glass for Apple iPhone 11 P...',\n",
       "  'MOBIVIILE Edge To Edge Tempered Glass for Apple iPad Pr...',\n",
       "  'Lenovo Tab P11 Pro 6 GB RAM 128 GB ROM 11.5 inch with W...',\n",
       "  'Flipkart SmartBuy Edge To Edge Tempered Glass for Vivo ...',\n",
       "  'TECHSHIELD Edge To Edge Tempered Glass for Apple ipad A...',\n",
       "  'TexoVera Edge To Edge Tempered Glass for Vivo X60 Pro',\n",
       "  'Hupshy Edge To Edge Tempered Glass for OPPO F11 Pro, OP...',\n",
       "  'Flipkart SmartBuy Edge To Edge Tempered Glass for Realm...',\n",
       "  'NAXTON Impossible Screen Guard for IPHONE 11PRO',\n",
       "  'RidivishN Edge To Edge Tempered Glass for Mi Redmi Note...',\n",
       "  'Karpine Front and Back Screen Guard for OPPO F11 Pro',\n",
       "  'CallSmith Back Screen Guard for Apple iPhone 11 Pro Bac...',\n",
       "  'MOBIVIILE Tempered Glass Guard for Vivo V11 Pro, Vivo V...',\n",
       "  'VILLA Tempered Glass Guard for Vivo V15 Pro',\n",
       "  'Techstuff Edge To Edge Tempered Glass for APPLE I PHONE...',\n",
       "  'Red Robin Edge To Edge Tempered Glass for Oppo F11 Pro',\n",
       "  'MOBIVIILE Tempered Glass Guard for Realme 5 Pro, Oppo F...',\n",
       "  'GS Smart Front and Back Tempered Glass for Apple iPhone...',\n",
       "  'Red Robin Edge To Edge Tempered Glass for Vivo V11 Pro',\n",
       "  'RR Gallery Front and Back Tempered Glass for Apple iPho...',\n",
       "  'memobones Edge To Edge Tempered Glass for IPHONE 11 PRO...',\n",
       "  'DUDAO 10000 mAh Power Bank (18 W, Quick Charge 2.0)',\n",
       "  'CASESUTRA Back Screen Guard for Vivo V11 Pro, Vivo 1804...',\n",
       "  'Power Up 10000 mAh Power Bank',\n",
       "  'Red Robin Edge To Edge Tempered Glass for Vivo V11 Pro'],\n",
       " 'Price ': ['₹79,999',\n",
       "  '₹1,17,900',\n",
       "  '₹1,17,900',\n",
       "  '₹229',\n",
       "  '₹99,900',\n",
       "  '₹1,17,100',\n",
       "  '₹1,31,900',\n",
       "  '₹1,17,100',\n",
       "  '₹1,17,100',\n",
       "  '₹28,990',\n",
       "  '₹28,990',\n",
       "  '₹22,654',\n",
       "  '₹319',\n",
       "  '₹179',\n",
       "  '₹195',\n",
       "  '₹399',\n",
       "  '₹501',\n",
       "  '₹44,990',\n",
       "  '₹168',\n",
       "  '₹479',\n",
       "  '₹699',\n",
       "  '₹179',\n",
       "  '₹199',\n",
       "  '₹199',\n",
       "  '₹199',\n",
       "  '₹219',\n",
       "  '₹269',\n",
       "  '₹219',\n",
       "  '₹142',\n",
       "  '₹196',\n",
       "  '₹199',\n",
       "  '₹248',\n",
       "  '₹199',\n",
       "  '₹199',\n",
       "  '₹249',\n",
       "  '₹160',\n",
       "  '₹969',\n",
       "  '₹152',\n",
       "  '₹999',\n",
       "  '₹199']}"
      ]
     },
     "execution_count": 16,
     "metadata": {},
     "output_type": "execute_result"
    }
   ],
   "source": [
    "result = scraper.get_result_similar(\"https://www.flipkart.com/search?q=11 pro\",group_by_alias=True)\n",
    "result"
   ]
  },
  {
   "cell_type": "code",
   "execution_count": 17,
   "metadata": {},
   "outputs": [
    {
     "data": {
      "text/plain": [
       "['APPLE iPhone 11 Pro (Midnight Green, 64 GB)',\n",
       " 'APPLE iPhone 11 Pro (Midnight Green, 512 GB)',\n",
       " 'APPLE iPhone 11 Pro (Space Grey, 512 GB)',\n",
       " 'FIVE-O Edge To Edge Tempered Glass for Mi Redmi Note 5 ...',\n",
       " 'APPLE iPhone 11 Pro (Space Grey, 256 GB)',\n",
       " 'APPLE iPhone 11 Pro Max (Gold, 64 GB)',\n",
       " 'APPLE iPhone 11 Pro Max (Midnight Green, 256 GB)',\n",
       " 'APPLE iPhone 11 Pro Max (Midnight Green, 64 GB)',\n",
       " 'APPLE iPhone 11 Pro Max (Space Grey, 64 GB)',\n",
       " 'ViVO V11 Pro (Starry Night Black, 64 GB)',\n",
       " 'OPPO F11 Pro Marvel’s Avengers Limited Edition (Space B...',\n",
       " 'ViVO V11 Pro (Dazzling Gold, 64 GB)',\n",
       " 'OPPO Wall Charger Accessory Combo for All Mobile Phones',\n",
       " 'Hupshy Edge To Edge Tempered Glass for Realme Narzo 30 ...',\n",
       " 'CEDO XPRO Edge To Edge Tempered Glass for Apple iPhone ...',\n",
       " 'D & Y Edge To Edge Tempered Glass for Apple iPhone 11 P...',\n",
       " 'MOBIVIILE Edge To Edge Tempered Glass for Apple iPad Pr...',\n",
       " 'Lenovo Tab P11 Pro 6 GB RAM 128 GB ROM 11.5 inch with W...',\n",
       " 'Flipkart SmartBuy Edge To Edge Tempered Glass for Vivo ...',\n",
       " 'TECHSHIELD Edge To Edge Tempered Glass for Apple ipad A...',\n",
       " 'TexoVera Edge To Edge Tempered Glass for Vivo X60 Pro',\n",
       " 'Hupshy Edge To Edge Tempered Glass for OPPO F11 Pro, OP...',\n",
       " 'Flipkart SmartBuy Edge To Edge Tempered Glass for Realm...',\n",
       " 'NAXTON Impossible Screen Guard for IPHONE 11PRO',\n",
       " 'RidivishN Edge To Edge Tempered Glass for Mi Redmi Note...',\n",
       " 'Karpine Front and Back Screen Guard for OPPO F11 Pro',\n",
       " 'CallSmith Back Screen Guard for Apple iPhone 11 Pro Bac...',\n",
       " 'MOBIVIILE Tempered Glass Guard for Vivo V11 Pro, Vivo V...',\n",
       " 'VILLA Tempered Glass Guard for Vivo V15 Pro',\n",
       " 'Techstuff Edge To Edge Tempered Glass for APPLE I PHONE...',\n",
       " 'Red Robin Edge To Edge Tempered Glass for Oppo F11 Pro',\n",
       " 'MOBIVIILE Tempered Glass Guard for Realme 5 Pro, Oppo F...',\n",
       " 'GS Smart Front and Back Tempered Glass for Apple iPhone...',\n",
       " 'Red Robin Edge To Edge Tempered Glass for Vivo V11 Pro',\n",
       " 'RR Gallery Front and Back Tempered Glass for Apple iPho...',\n",
       " 'memobones Edge To Edge Tempered Glass for IPHONE 11 PRO...',\n",
       " 'DUDAO 10000 mAh Power Bank (18 W, Quick Charge 2.0)',\n",
       " 'CASESUTRA Back Screen Guard for Vivo V11 Pro, Vivo 1804...',\n",
       " 'Power Up 10000 mAh Power Bank',\n",
       " 'Red Robin Edge To Edge Tempered Glass for Vivo V11 Pro']"
      ]
     },
     "execution_count": 17,
     "metadata": {},
     "output_type": "execute_result"
    }
   ],
   "source": [
    "result['Products']"
   ]
  },
  {
   "cell_type": "markdown",
   "metadata": {},
   "source": [
    "# Amazon"
   ]
  },
  {
   "cell_type": "code",
   "execution_count": 1,
   "metadata": {},
   "outputs": [
    {
     "name": "stdout",
     "output_type": "stream",
     "text": [
      "['ASUS VivoBook 14 (2020) Intel Quad Core Pentium Silver N5030, 14-inch FHD Thin and Light Laptop (4GB RAM/1TB HDD/Windows 10/Integrated Graphics/Transparent Silver/1.5 Kg), X415MA-EK101T', '₹24,990₹24,990\\n₹31,990₹31,990\\n\\nSave ₹7,000 (22%)Save extra with No Cost EMI', 'ASUS VIVOBOOK X515JA-EJ321T i3-1005G1//8G/1TB HDD/Slate GREY/15.6\"FHD/1Y International Warranty + McAfee//Finger Print/', '₹37,100₹37,100\\n₹43,990₹43,990\\n\\nSave ₹6,890 (16%)Save extra with No Cost EMI', '(Renewed) Asus Zenfone Max M2 (Blue, 3GB RAM, 32GB Storage)', '₹7,899₹7,899\\n₹12,999₹12,999\\n\\nSave ₹5,100 (39%)10%  Off on Citi Bank Cards', '(Renewed) Asus Zenfone Max Pro M1 (Black, 64 GB) (4 GB RAM) | 5000 mAh Battery (Black)', '₹7,999₹7,999\\n₹9,999₹9,999\\n\\nSave ₹2,000 (20%)Save extra with Cashback', 'Asus Vivobook M515DA-EJ002TS- AMD Athlon Silver 3050U, 2.3 GHz / 4GB DDR4 / 1TB HDD / 15.6\"FHD / AMD RadeonTM Integrated Graphics / Windows 10 Home / Ms Office H&S 2019 / 1Yr Warranty / Silver', '₹27,499₹27,499\\n₹33,990₹33,990\\n\\nSave ₹6,491 (19%)Save extra with No Cost EMI', 'ASUS ROG Strix G17 17.3\" FHD 120Hz Intel Core i7-10750H 10th Gen, GTX 1660Ti 6GB Graphics (16GB RAM/512GB NVMe SSD/Windows 10/Original Black/2.83 Kg), G712LU-H7015T + Xbox Game Pass for PC', '₹97,990₹97,990\\n₹1,42,990₹1,42,990\\n\\nSave ₹45,000 (31%)Save extra with No Cost EMI', 'Asus X509MA-BR270T/ Silver/ Intel Celeron N4020/ RAM 4GB/ SSD 256GB/ 15.6 inch HD/ FP/ 2Cell/ Win 10SL', '₹23,300₹23,300\\n₹31,990₹31,990\\n\\nSave ₹8,690 (27%)Save extra with No Cost EMI', 'ASUS ZenBook Duo Intel Core i5-10210U 10th Gen 14-inch FHD Thin and Light Touch Laptop (8GB RAM/512GB NVMe SSD/Windows 10/MS Office 2019/2GB NVIDIA GeForce MX250 Graphics/1.60 Kg), UX481FL-HJ551TS', 'Deal of the Day \\n\\n\\n\\n\\n₹79,490₹79,490\\n₹1,11,990₹1,11,990\\n\\nSave ₹32,500 (29%)Save extra with No Cost EMI', 'ASUS Laptop L210 Ultra Thin Laptop, 11.6? HD Display, Intel Celeron N4020 Processor, 4GB RAM, 64GB Storage, NumberPad, Windows 10 Home in S Mode with One Year of Microsoft 365 Personal, L210MA-DB01', '₹39,155₹39,155\\n₹46,986₹46,986\\n\\nSave ₹7,831 (17%)Save extra with No Cost EMI', 'ASUS VivoBook 15 AMD Quad Core Ryzen 5-3500U(8GB RAM/1 TB HDD/Win. 10/MS Office H&S 2019/1 Yr. McAfee/Integrated Vega 8 Graphics/15.6-inch FHDIPS/FP Reader/1.75kg/Silver/1 Yr.)M515DA-BQ502TS', '₹42,390₹42,390\\n₹55,990₹55,990\\n\\nSave ₹13,600 (24%)Save extra with No Cost EMI', 'ASUS VivoBook S S14 Intel Core i5-1135G7 11th Gen, 14-inch FHD Thin and Light Laptop (8GB RAM/512GB SSD + 32GB Optane Memory/Windows 10/Office 2019/Iris X Graphics/Indie Black/1.4 Kg), S433EA-AM501TS', '₹60,490₹60,490\\n₹67,990₹67,990\\n\\nSave ₹7,500 (11%)Save extra with No Cost EMI', 'ASUS VivoBook 15 (2020) Intel Core i5-1035G1 10th Gen, 15.6-inch FHD Thin and Light Laptop (8GB RAM/1TB HDD/Windows 10/Office 2019/Integrated Graphics/Transparent Silver/1.8 Kg), X515JA-EJ502TS', '₹45,935₹45,935\\n₹57,990₹57,990\\n\\nSave ₹12,055 (21%)Save extra with No Cost EMI', 'ASUS VivoBook Ultra 15 AMD Ryzen 5 4500U 15.6-inch FHD Thin and Light Laptop (8GB RAM/512GB NVMe SSD/Windows 10/Integrated Graphics/Bespoke Black/1.80 kg), M513IA-EJ310T', '₹51,990₹51,990\\n₹64,990₹64,990\\n\\nSave ₹13,000 (20%)Save extra with No Cost EMI', 'ASUS ROG Strix Z590-E Gaming WiFi Intel Z590 LGA 1200 11th Gen ATX Motherboard with PCIe 4.0 Wi-Fi 6E AI Overclocking & Cooling and Thunderbolt 4 Support', '₹36,899₹36,899\\n₹58,500₹58,500\\n\\nSave ₹21,601 (37%)Save extra with No Cost EMI', 'Asus Vivobook M515DA-EJ301T - AMD Ryzen 3 3250U 2.6 GHz / 4GB DDR4 / 1TB HDD / 15.6\"FHD / AMD RadeonTM Integrated Graphics / Windows 10 Home / 1Yr Warranty / Grey / 1.8 Kgs', '₹31,399₹31,399\\n₹37,990₹37,990\\n\\nSave ₹6,591 (17%)Save extra with No Cost EMI', 'ASUS VivoBook 14 (2020) Intel Core i3-1005G1 10th Gen 14-inch FHD Thin and Light Laptop (4GB/1TB HDD/Integrated Graphics/Windows 10/MS Office 2019/Transparent Silver/1.6 kg), X415JA-EK302TS', '₹33,490₹33,490\\n₹42,990₹42,990\\n\\nSave ₹9,500 (22%)Save extra with No Cost EMI', 'ASUS VivoBook 14 (2020) Intel Quad Core Pentium Silver N5030, 14-inch FHD Thin and Light Laptop (4GB RAM/1TB HDD/Windows 1...', 'ASUS VIVOBOOK X515JA-EJ321T i3-1005G1//8G/1TB HDD/Slate GREY/15.6', 'Asus Vivobook M515DA-EJ002TS- AMD Athlon Silver 3050U, 2.3 GHz / 4GB DDR4 / 1TB HDD / 15.6', 'ASUS ROG Strix G17 17.3', 'ASUS ZenBook Duo Intel Core i5-10210U 10th Gen 14-inch FHD Thin and Light Touch Laptop (8GB RAM/512GB NVMe SSD/Windows 10/...', 'ASUS Laptop L210 Ultra Thin Laptop, 11.6? HD Display, Intel Celeron N4020 Processor, 4GB RAM, 64GB Storage, NumberPad, Win...', 'ASUS VivoBook 15 AMD Quad Core Ryzen 5-3500U(8GB RAM/1 TB HDD/Win. 10/MS Office H&S 2019/1 Yr. McAfee/Integrated Vega 8 Gr...', 'ASUS VivoBook S S14 Intel Core i5-1135G7 11th Gen, 14-inch FHD Thin and Light Laptop (8GB RAM/512GB SSD + 32GB Optane Memo...', 'ASUS VivoBook 15 (2020) Intel Core i5-1035G1 10th Gen, 15.6-inch FHD Thin and Light Laptop (8GB RAM/1TB HDD/Windows 10/Off...', 'ASUS VivoBook Ultra 15 AMD Ryzen 5 4500U 15.6-inch FHD Thin and Light Laptop (8GB RAM/512GB NVMe SSD/Windows 10/Integrated...', 'ASUS ROG Strix Z590-E Gaming WiFi Intel Z590 LGA 1200 11th Gen ATX Motherboard with PCIe 4.0 Wi-Fi 6E AI Overclocking & Co...', 'Asus Vivobook M515DA-EJ301T - AMD Ryzen 3 3250U 2.6 GHz / 4GB DDR4 / 1TB HDD / 15.6', 'ASUS VivoBook 14 (2020) Intel Core i3-1005G1 10th Gen 14-inch FHD Thin and Light Laptop (4GB/1TB HDD/Integrated Graphics/W...', 'ASUS VivoBook 15 (2020) Intel Core i3-1005G1 10th Gen, 15.6-inch FHD Thin and Light Laptop (4GB RAM/1TB HDD/Windows 10/Integrated Graphics/Slate Grey/1.8 Kg), X515JA-EJ301T', 'ASUS ROG Zephyrus G14, 14\" FHD 120Hz, Ryzen 7 4800HS, GTX 1650 Ti 4GB GDDR6 Graphics, Gaming Laptop (8GB/512GB SSD/MS Office 2019/Windows 10/Moonlight White/1.6 Kg), GA401II-HE021TS', 'Asus Vivobook (AMD Ryzen 5-3500U 2.1 GHz/ 8GB DDR4/ 1TB HDD/ 14 inch\"FHD/ AMD Radeon Vega 8 Graphics/ Windows 10 Home/ Slate Grey/ 1.6 Kg) M415DA-EB501T', 'ASUS VivoBook 14 (2020) Intel Core i3-1005G1 10th Gen 14-inch FHD Thin and Light Laptop (8GB RAM/1TB HDD + 128GB NVMe SSD/Integrated Graphics/Windows 10/Slate Grey/1.6 kg), X415JA-EK331T', 'ASUS TUF Gaming F15 Laptop 15.6\" FHD 144Hz, Intel Core i5-10300H 10th Gen, GTX 1660 Ti 6GB Graphics (16GB RAM/1TB SSD/Windows 10/Fortress Gray/2.3 Kg), FX566LU-HN251T', 'ASUS TUF Dash F15 (2021), 15.6\" FHD 240Hz/3ms, Intel Core i7-11370H 11th Gen, GeForce RTX 3070 8GB Graphics, Gaming Laptop (16GB/1TB SSD/Office 2019/Windows 10/Eclipse Gray/2 kg), FX516PR-AZ019TS', 'ASUS VivoBook 15 (2020) Intel Core i3-1005G1 10th Gen, 15.6-inch FHD Thin and Light Laptop (4GB RAM/1TB HDD/Windows 10/Int...', 'ASUS ROG Zephyrus G14, 14', 'Asus Vivobook (AMD Ryzen 5-3500U 2.1 GHz/ 8GB DDR4/ 1TB HDD/ 14 inch', 'ASUS VivoBook 14 (2020) Intel Core i3-1005G1 10th Gen 14-inch FHD Thin and Light Laptop (8GB RAM/1TB HDD + 128GB NVMe SSD/...', 'ASUS TUF Gaming F15 Laptop 15.6', 'ASUS TUF Dash F15 (2021), 15.6']\n"
     ]
    }
   ],
   "source": [
    "from autoscraper import AutoScraper\n",
    "\n",
    "url = 'https://www.amazon.in/s?k=asus&ref=nb_sb_noss'\n",
    "\n",
    "wanted_list = ['Asus X509MA-BR270T/ Silver/ Intel Celeron N4020/ RAM 4GB/ SSD 256GB/ 15.6 inch HD/ FP/ 2Cell/ Win 10SL ',\n",
    "               '₹ 23,300.00',\n",
    "               'https://www.amazon.in/Asus-X509MA-BR270T-Silver-Intel-Celeron/']\n",
    "\n",
    "scraper = AutoScraper()\n",
    "result = scraper.build(url, wanted_list)\n",
    "print(result)"
   ]
  },
  {
   "cell_type": "code",
   "execution_count": 2,
   "metadata": {},
   "outputs": [
    {
     "data": {
      "text/plain": [
       "{'rule_06i7': ['₹20,445₹20,445 ₹35,000₹35,000  Save ₹14,555 (42%)Save extra with No Cost EMI',\n",
       "  '₹31,490₹31,490 ₹37,990₹37,990  Save ₹6,500 (17%)Save extra with Cashback',\n",
       "  '₹8,990₹8,990 ₹11,999₹11,999  Save ₹3,009 (25%)10%  Off on Citi Bank Cards',\n",
       "  '₹8,970₹8,970 ₹11,990₹11,990  Save ₹3,020 (25%)10%  Off on Citi Bank Cards',\n",
       "  '₹44,990₹44,990 ₹66,190₹66,190  Save ₹21,200 (32%)Save extra with No Cost EMI',\n",
       "  '₹29,990₹29,990 ₹36,590₹36,590  Save ₹6,600 (18%)Save extra with No Cost EMI',\n",
       "  '₹10,990₹10,990 ₹18,990₹18,990  Save ₹8,000 (42%)Save extra with Cashback',\n",
       "  '₹1,285₹1,285 ₹2,796₹2,796  Save ₹1,511 (54%)Save extra with Cashback',\n",
       "  '₹13,490₹13,490 ₹21,000₹21,000  Save ₹7,510 (36%)Save extra with No Cost EMI',\n",
       "  '₹22,999₹22,999 ₹39,000₹39,000  Save ₹16,001 (41%)Save extra with No Cost EMI',\n",
       "  '₹8,499₹8,499 ₹14,000₹14,000  Save ₹5,501 (39%)Save extra with No Cost EMI',\n",
       "  '₹9,979₹9,979 ₹16,000₹16,000  Save ₹6,021 (38%)Save extra with No Cost EMI',\n",
       "  '₹12,769₹12,769 ₹15,890₹15,890  Save ₹3,121 (20%)Save extra with No Cost EMI',\n",
       "  'Limited time deal  ₹13,999₹13,999 ₹27,000₹27,000  Save ₹13,001 (48%)Save extra with No Cost EMI',\n",
       "  '₹20,999₹20,999 ₹35,500₹35,500  Save ₹14,501 (41%)Save extra with No Cost EMI'],\n",
       " 'rule_0fkn': ['Lenovo Tab M10 FHD Plus Tablet (10.3-inch, 4GB, 128GB, Wi-Fi + LTE, Volte Calling), Platinum Grey',\n",
       "  'Lenovo IdeaPad Slim 3 Intel Celeron N4020 15.6-inch HD Thin and Light Laptop (4GB/256GB SSD/Windows 10/Platinum Grey/1.7Kg...',\n",
       "  'Lenovo Ideapad Slim 3 AMD Ryzen 3 15.6 inch Full HD Thin and Light Laptop (4GB/1TB HDD/Windows 10/MS Office 2019/Platinum ...',\n",
       "  'Lenovo A7 (Blue 4GB RAM, 64GB Internal Memory)',\n",
       "  'Lenovo A7 (Black, 4GB RAM, 64GB Storage, 4000mAh Battery)',\n",
       "  'Lenovo Ideapad Slim 3 10th Gen Intel Core i5 15.6 inch FHD Thin and Light Laptop (8GB/1TB/Windows 10/MS Office/Grey/1.85Kg...',\n",
       "  'Lenovo Ideapad S145 AMD RYZEN 3 3200U 15.6-inch FHD Laptop (4GB/1TB/Windows 10/Office 2019/Grey/1.85Kg),81UT001CIN',\n",
       "  'Lenovo Tab M10 HD Tablet (10.1 inch, 2GB, 32GB, Wi-Fi Only) Slate Black',\n",
       "  'Lenovo GX20L29764 65W Laptop Adapter/Charger with Power Cord for Select Models of Lenovo (Round pin)',\n",
       "  'Lenovo Tab M10 HD Tablet (10.1-inch, 2GB, 32GB, Wi-Fi + 4G LTE, Volte Calling), Slate Black',\n",
       "  'Lenovo Tab M10 FHD Plus (2nd Gen) (10.3 inch, 4 GB, 128 GB, Wi-Fi+ LTE) with Active Pen',\n",
       "  'Lenovo Tab M8 HD Tablet (8-inch, 2GB, 32GB, Wi-Fi Only), Platinum Grey',\n",
       "  'Lenovo Tab M8 2nd Gen Tablet (8-inch, 2GB, 32GB, Wi-Fi + LTE + Calling), Iron Grey',\n",
       "  'Lenovo 60.4 cm (23.8-inch) FHD Ultra Slim Near Edgeless IPS Monitor with 75Hz, 4ms, HDMI, VGA, AMD FreeSync, Built in Spea...',\n",
       "  'Lenovo Tab M10 FHD Plus Tablet (10.3-inch, 2GB, 32GB, Wi-Fi + LTE, Volte Calling), Platinum Grey',\n",
       "  'Lenovo Yoga Smart Tablet with The Google Assistant 25.65 cm (10.1 inch, 4GB, 64GB, WiFi + 4G LTE), Iron Grey'],\n",
       " 'rule_yx88': ['Lenovo IdeaPad Flex 5 11th Gen Intel Core i3 14-inch FHD IPS 2-in-1 Touchscreen Laptop (8GB/256GB SSD/Win 10/Office 2019/Lenovo Digital Pen Stylus/Fingerprint Reader/Graphite Grey/1.5Kg), 82HS008YIN',\n",
       "  'Lenovo Tab M10 FHD Plus (2nd Gen) (10.3 inch, 4 GB, 128 GB, Wi-Fi+ LTE) with Active Pen',\n",
       "  'Lenovo IdeaPad Slim 5 11th Gen Intel Core i5 14\" FHD IPS Thin & Light Laptop (8GB/512GB SSD/Win 10/Office/Intel Iris Xe Graphics/Fingerprint Reader/Graphite Grey/Aluminium Surface/1.39Kg), 82FE00K0IN',\n",
       "  'Lenovo IdeaPad Flex 5 11th Gen Intel Core i5 14-inch FHD IPS 2-in-1 Touchscreen Laptop (8GB/512GB SSD/Win 10/Office 2019/Lenovo Digital Pen Stylus/Fingerprint Reader/Graphite Grey/1.5Kg), 82HS009HIN',\n",
       "  'Lenovo IdeaPad Flex 5 11th Gen Intel Core i7 14-inch FHD IPS 2-in-1 Touchscreen Laptop (16GB/512GB SSD/Win 10/Office 2019/Lenovo Digital Pen Stylus/Fingerprint Reader/Graphite Grey/1.5Kg), 82HS0092IN',\n",
       "  'Lenovo Yoga 6 AMD Ryzen 7 4700U 13.3-inch Full HD IPS 2-in-1 Touchscreen Laptop (16GB/512GB SSD/Windows 10/MS Office 2019/Fingerprint Reader/Abyss Blue/Fabric Surface/1.32Kg), 82FN004QIN',\n",
       "  'Lenovo Legion 5 AMD Ryzen 7 4800H 15.6-inch FHD Gaming Laptop (16GB/1TB HDD + 256GB SSD/Win 10/Office/144 Hz/NVIDIA RTX 2060 6GB GDDR6 Graphics/M300 RGB Gaming Mouse/Phantom Black/2.46 Kg), 82B100AVIN',\n",
       "  'Lenovo IdeaPad Flex 5 11th Gen Intel Core i3 14-inch FHD IPS 2-in-1 Touchscreen Laptop (8GB/512GB SSD/Win 10/Office 2019/Lenovo Digital Pen Stylus/Fingerprint Reader/Graphite Grey/1.5Kg), 82HS009GIN'],\n",
       " 'rule_6r5c': ['Lenovo IdeaPad Flex 5 11th Gen Intel Core i3 14-inch FHD IPS 2-in-1 Touchscreen Laptop (8GB/256GB SSD/Win 10/Office 2019/L...',\n",
       "  'Lenovo Tab M10 FHD Plus (2nd Gen) (10.3 inch, 4 GB, 128 GB, Wi-Fi+ LTE) with Active Pen',\n",
       "  'Lenovo IdeaPad Slim 5 11th Gen Intel Core i5 14',\n",
       "  'Lenovo IdeaPad Flex 5 11th Gen Intel Core i5 14-inch FHD IPS 2-in-1 Touchscreen Laptop (8GB/512GB SSD/Win 10/Office 2019/L...',\n",
       "  'Lenovo IdeaPad Flex 5 11th Gen Intel Core i7 14-inch FHD IPS 2-in-1 Touchscreen Laptop (16GB/512GB SSD/Win 10/Office 2019/...',\n",
       "  'Lenovo Yoga 6 AMD Ryzen 7 4700U 13.3-inch Full HD IPS 2-in-1 Touchscreen Laptop (16GB/512GB SSD/Windows 10/MS Office 2019/...',\n",
       "  'Lenovo Legion 5 AMD Ryzen 7 4800H 15.6-inch FHD Gaming Laptop (16GB/1TB HDD + 256GB SSD/Win 10/Office/144 Hz/NVIDIA RTX 20...',\n",
       "  'Lenovo IdeaPad Flex 5 11th Gen Intel Core i3 14-inch FHD IPS 2-in-1 Touchscreen Laptop (8GB/512GB SSD/Win 10/Office 2019/L...']}"
      ]
     },
     "execution_count": 2,
     "metadata": {},
     "output_type": "execute_result"
    }
   ],
   "source": [
    "scraper.get_result_similar(\"https://www.amazon.in/s?k=lenovo&ref=nb_sb_noss_2\",grouped=True)"
   ]
  },
  {
   "cell_type": "code",
   "execution_count": 3,
   "metadata": {},
   "outputs": [],
   "source": [
    "scraper.set_rule_aliases({'rule_06i7':'Price And Savings','rule_0fkn': 'Laptop'})\n",
    "scraper.keep_rules(['rule_06i7','rule_0fkn'])"
   ]
  },
  {
   "cell_type": "code",
   "execution_count": 4,
   "metadata": {},
   "outputs": [
    {
     "data": {
      "text/plain": [
       "{'Price And Savings': ['₹20,445₹20,445 ₹35,000₹35,000  Save ₹14,555 (42%)Save extra with No Cost EMI',\n",
       "  '₹31,490₹31,490 ₹37,990₹37,990  Save ₹6,500 (17%)Save extra with Cashback',\n",
       "  '₹44,990₹44,990 ₹66,190₹66,190  Save ₹21,200 (32%)Save extra with No Cost EMI',\n",
       "  '₹10,990₹10,990 ₹18,990₹18,990  Save ₹8,000 (42%)Save extra with Cashback',\n",
       "  '₹1,285₹1,285 ₹2,796₹2,796  Save ₹1,511 (54%)Save extra with Cashback',\n",
       "  '₹9,979₹9,979 ₹16,000₹16,000  Save ₹6,021 (38%)Save extra with No Cost EMI',\n",
       "  '₹22,999₹22,999 ₹39,000₹39,000  Save ₹16,001 (41%)Save extra with No Cost EMI',\n",
       "  '₹13,490₹13,490 ₹21,000₹21,000  Save ₹7,510 (36%)Save extra with No Cost EMI',\n",
       "  '₹8,990₹8,990 ₹11,999₹11,999  Save ₹3,009 (25%)10%  Off on Citi Bank Cards',\n",
       "  '₹29,990₹29,990 ₹36,590₹36,590  Save ₹6,600 (18%)Save extra with No Cost EMI',\n",
       "  '₹67,990₹67,990 ₹91,790₹91,790  Save ₹23,800 (26%)Save extra with No Cost EMI',\n",
       "  '₹1,19,990₹1,19,990 ₹1,49,990₹1,49,990  Save ₹30,000 (20%)Save extra with No Cost EMI',\n",
       "  '₹8,499₹8,499 ₹14,000₹14,000  Save ₹5,501 (39%)Save extra with No Cost EMI',\n",
       "  '₹29,490₹29,490 ₹36,990₹36,990  Save ₹7,500 (20%)Save extra with No Cost EMI'],\n",
       " 'Laptop': ['Lenovo IdeaPad Slim 3 Intel Celeron N4020 15.6-inch HD Thin and Light Laptop (4GB/256GB SSD/Windows 10/Platinum Grey/1.7Kg...',\n",
       "  'Lenovo Tab M10 FHD Plus Tablet (10.3-inch, 4GB, 128GB, Wi-Fi + LTE, Volte Calling), Platinum Grey',\n",
       "  'Lenovo Ideapad Slim 3 AMD Ryzen 3 15.6 inch Full HD Thin and Light Laptop (4GB/1TB HDD/Windows 10/MS Office 2019/Platinum ...',\n",
       "  'Lenovo Ideapad Slim 3 10th Gen Intel Core i5 15.6 inch FHD Thin and Light Laptop (8GB/1TB/Windows 10/MS Office/Grey/1.85Kg...',\n",
       "  'Lenovo Tab M10 HD Tablet (10.1 inch, 2GB, 32GB, Wi-Fi Only) Slate Black',\n",
       "  'Lenovo GX20L29764 65W Laptop Adapter/Charger with Power Cord for Select Models of Lenovo (Round pin)',\n",
       "  'Lenovo Tab M8 2nd Gen Tablet (8-inch, 2GB, 32GB, Wi-Fi + LTE + Calling), Iron Grey',\n",
       "  'Lenovo Tab M10 FHD Plus (2nd Gen) (10.3 inch, 4 GB, 128 GB, Wi-Fi+ LTE) with Active Pen',\n",
       "  'Lenovo Tab M10 HD Tablet (10.1-inch, 2GB, 32GB, Wi-Fi + 4G LTE, Volte Calling), Slate Black',\n",
       "  'Lenovo Ideapad S145 AMD A6-9225 15.6 inch HD Thin and Light Laptop (4GB/1TB/Windows 10/Grey/1.85Kg), 81N30063IN',\n",
       "  'Lenovo A7 (Blue 4GB RAM, 64GB Internal Memory)',\n",
       "  'Lenovo Ideapad S145 AMD RYZEN 3 3200U 15.6-inch FHD Laptop (4GB/1TB/Windows 10/Office 2019/Grey/1.85Kg),81UT001CIN',\n",
       "  'Lenovo Legion 5 AMD Ryzen 5 4600H 15.6 inch Full HD Gaming Laptop (8GB/1TB HDD + 256GB SSD/Windows 10/120 Hz/NVIDIA GTX 16...',\n",
       "  'Lenovo Legion 5 AMD Ryzen 7 4800H 15.6-inch FHD Gaming Laptop (16GB/1TB HDD + 256GB SSD/Win 10/Office/144 Hz/NVIDIA RTX 20...',\n",
       "  'Lenovo Tab M8 HD Tablet (8-inch, 2GB, 32GB, Wi-Fi Only), Platinum Grey',\n",
       "  'Lenovo Ideapad Slim 3 AMD Ryzen 3 15.6 inch FHD Thin and Light Laptop (4GB/1TB/Windows 10/MS Office/Grey/1.85Kg), 81W10052IN']}"
      ]
     },
     "execution_count": 4,
     "metadata": {},
     "output_type": "execute_result"
    }
   ],
   "source": [
    "result=scraper.get_result_similar(\"https://www.amazon.in/s?k=lenovo&ref=nb_sb_noss_2\",group_by_alias=True)\n",
    "result"
   ]
  },
  {
   "cell_type": "code",
   "execution_count": 6,
   "metadata": {},
   "outputs": [
    {
     "data": {
      "text/plain": [
       "['Lenovo IdeaPad Slim 3 Intel Celeron N4020 15.6-inch HD Thin and Light Laptop (4GB/256GB SSD/Windows 10/Platinum Grey/1.7Kg...',\n",
       " 'Lenovo Tab M10 FHD Plus Tablet (10.3-inch, 4GB, 128GB, Wi-Fi + LTE, Volte Calling), Platinum Grey',\n",
       " 'Lenovo Ideapad Slim 3 AMD Ryzen 3 15.6 inch Full HD Thin and Light Laptop (4GB/1TB HDD/Windows 10/MS Office 2019/Platinum ...',\n",
       " 'Lenovo Ideapad Slim 3 10th Gen Intel Core i5 15.6 inch FHD Thin and Light Laptop (8GB/1TB/Windows 10/MS Office/Grey/1.85Kg...',\n",
       " 'Lenovo Tab M10 HD Tablet (10.1 inch, 2GB, 32GB, Wi-Fi Only) Slate Black',\n",
       " 'Lenovo GX20L29764 65W Laptop Adapter/Charger with Power Cord for Select Models of Lenovo (Round pin)',\n",
       " 'Lenovo Tab M8 2nd Gen Tablet (8-inch, 2GB, 32GB, Wi-Fi + LTE + Calling), Iron Grey',\n",
       " 'Lenovo Tab M10 FHD Plus (2nd Gen) (10.3 inch, 4 GB, 128 GB, Wi-Fi+ LTE) with Active Pen',\n",
       " 'Lenovo Tab M10 HD Tablet (10.1-inch, 2GB, 32GB, Wi-Fi + 4G LTE, Volte Calling), Slate Black',\n",
       " 'Lenovo Ideapad S145 AMD A6-9225 15.6 inch HD Thin and Light Laptop (4GB/1TB/Windows 10/Grey/1.85Kg), 81N30063IN',\n",
       " 'Lenovo A7 (Blue 4GB RAM, 64GB Internal Memory)',\n",
       " 'Lenovo Ideapad S145 AMD RYZEN 3 3200U 15.6-inch FHD Laptop (4GB/1TB/Windows 10/Office 2019/Grey/1.85Kg),81UT001CIN',\n",
       " 'Lenovo Legion 5 AMD Ryzen 5 4600H 15.6 inch Full HD Gaming Laptop (8GB/1TB HDD + 256GB SSD/Windows 10/120 Hz/NVIDIA GTX 16...',\n",
       " 'Lenovo Legion 5 AMD Ryzen 7 4800H 15.6-inch FHD Gaming Laptop (16GB/1TB HDD + 256GB SSD/Win 10/Office/144 Hz/NVIDIA RTX 20...',\n",
       " 'Lenovo Tab M8 HD Tablet (8-inch, 2GB, 32GB, Wi-Fi Only), Platinum Grey',\n",
       " 'Lenovo Ideapad Slim 3 AMD Ryzen 3 15.6 inch FHD Thin and Light Laptop (4GB/1TB/Windows 10/MS Office/Grey/1.85Kg), 81W10052IN']"
      ]
     },
     "execution_count": 6,
     "metadata": {},
     "output_type": "execute_result"
    }
   ],
   "source": [
    "result['Laptop']"
   ]
  },
  {
   "cell_type": "code",
   "execution_count": 15,
   "metadata": {},
   "outputs": [
    {
     "data": {
      "text/html": [
       "<div>\n",
       "<style scoped>\n",
       "    .dataframe tbody tr th:only-of-type {\n",
       "        vertical-align: middle;\n",
       "    }\n",
       "\n",
       "    .dataframe tbody tr th {\n",
       "        vertical-align: top;\n",
       "    }\n",
       "\n",
       "    .dataframe thead th {\n",
       "        text-align: right;\n",
       "    }\n",
       "</style>\n",
       "<table border=\"1\" class=\"dataframe\">\n",
       "  <thead>\n",
       "    <tr style=\"text-align: right;\">\n",
       "      <th></th>\n",
       "      <th>0</th>\n",
       "      <th>1</th>\n",
       "      <th>2</th>\n",
       "      <th>3</th>\n",
       "      <th>4</th>\n",
       "      <th>5</th>\n",
       "      <th>6</th>\n",
       "      <th>7</th>\n",
       "      <th>8</th>\n",
       "      <th>9</th>\n",
       "      <th>10</th>\n",
       "      <th>11</th>\n",
       "      <th>12</th>\n",
       "      <th>13</th>\n",
       "      <th>14</th>\n",
       "      <th>15</th>\n",
       "    </tr>\n",
       "  </thead>\n",
       "  <tbody>\n",
       "    <tr>\n",
       "      <th>Price And Savings</th>\n",
       "      <td>₹20,445₹20,445 ₹35,000₹35,000  Save ₹14,555 (4...</td>\n",
       "      <td>₹31,490₹31,490 ₹37,990₹37,990  Save ₹6,500 (17...</td>\n",
       "      <td>₹44,990₹44,990 ₹66,190₹66,190  Save ₹21,200 (3...</td>\n",
       "      <td>₹10,990₹10,990 ₹18,990₹18,990  Save ₹8,000 (42...</td>\n",
       "      <td>₹1,285₹1,285 ₹2,796₹2,796  Save ₹1,511 (54%)Sa...</td>\n",
       "      <td>₹9,979₹9,979 ₹16,000₹16,000  Save ₹6,021 (38%)...</td>\n",
       "      <td>₹22,999₹22,999 ₹39,000₹39,000  Save ₹16,001 (4...</td>\n",
       "      <td>₹13,490₹13,490 ₹21,000₹21,000  Save ₹7,510 (36...</td>\n",
       "      <td>₹8,990₹8,990 ₹11,999₹11,999  Save ₹3,009 (25%)...</td>\n",
       "      <td>₹29,990₹29,990 ₹36,590₹36,590  Save ₹6,600 (18...</td>\n",
       "      <td>₹67,990₹67,990 ₹91,790₹91,790  Save ₹23,800 (2...</td>\n",
       "      <td>₹1,19,990₹1,19,990 ₹1,49,990₹1,49,990  Save ₹3...</td>\n",
       "      <td>₹8,499₹8,499 ₹14,000₹14,000  Save ₹5,501 (39%)...</td>\n",
       "      <td>₹29,490₹29,490 ₹36,990₹36,990  Save ₹7,500 (20...</td>\n",
       "      <td>None</td>\n",
       "      <td>None</td>\n",
       "    </tr>\n",
       "    <tr>\n",
       "      <th>Laptop</th>\n",
       "      <td>Lenovo IdeaPad Slim 3 Intel Celeron N4020 15.6...</td>\n",
       "      <td>Lenovo Tab M10 FHD Plus Tablet (10.3-inch, 4GB...</td>\n",
       "      <td>Lenovo Ideapad Slim 3 AMD Ryzen 3 15.6 inch Fu...</td>\n",
       "      <td>Lenovo Ideapad Slim 3 10th Gen Intel Core i5 1...</td>\n",
       "      <td>Lenovo Tab M10 HD Tablet (10.1 inch, 2GB, 32GB...</td>\n",
       "      <td>Lenovo GX20L29764 65W Laptop Adapter/Charger w...</td>\n",
       "      <td>Lenovo Tab M8 2nd Gen Tablet (8-inch, 2GB, 32G...</td>\n",
       "      <td>Lenovo Tab M10 FHD Plus (2nd Gen) (10.3 inch, ...</td>\n",
       "      <td>Lenovo Tab M10 HD Tablet (10.1-inch, 2GB, 32GB...</td>\n",
       "      <td>Lenovo Ideapad S145 AMD A6-9225 15.6 inch HD T...</td>\n",
       "      <td>Lenovo A7 (Blue 4GB RAM, 64GB Internal Memory)</td>\n",
       "      <td>Lenovo Ideapad S145 AMD RYZEN 3 3200U 15.6-inc...</td>\n",
       "      <td>Lenovo Legion 5 AMD Ryzen 5 4600H 15.6 inch Fu...</td>\n",
       "      <td>Lenovo Legion 5 AMD Ryzen 7 4800H 15.6-inch FH...</td>\n",
       "      <td>Lenovo Tab M8 HD Tablet (8-inch, 2GB, 32GB, Wi...</td>\n",
       "      <td>Lenovo Ideapad Slim 3 AMD Ryzen 3 15.6 inch FH...</td>\n",
       "    </tr>\n",
       "  </tbody>\n",
       "</table>\n",
       "</div>"
      ],
      "text/plain": [
       "                                                                  0   \\\n",
       "Price And Savings  ₹20,445₹20,445 ₹35,000₹35,000  Save ₹14,555 (4...   \n",
       "Laptop             Lenovo IdeaPad Slim 3 Intel Celeron N4020 15.6...   \n",
       "\n",
       "                                                                  1   \\\n",
       "Price And Savings  ₹31,490₹31,490 ₹37,990₹37,990  Save ₹6,500 (17...   \n",
       "Laptop             Lenovo Tab M10 FHD Plus Tablet (10.3-inch, 4GB...   \n",
       "\n",
       "                                                                  2   \\\n",
       "Price And Savings  ₹44,990₹44,990 ₹66,190₹66,190  Save ₹21,200 (3...   \n",
       "Laptop             Lenovo Ideapad Slim 3 AMD Ryzen 3 15.6 inch Fu...   \n",
       "\n",
       "                                                                  3   \\\n",
       "Price And Savings  ₹10,990₹10,990 ₹18,990₹18,990  Save ₹8,000 (42...   \n",
       "Laptop             Lenovo Ideapad Slim 3 10th Gen Intel Core i5 1...   \n",
       "\n",
       "                                                                  4   \\\n",
       "Price And Savings  ₹1,285₹1,285 ₹2,796₹2,796  Save ₹1,511 (54%)Sa...   \n",
       "Laptop             Lenovo Tab M10 HD Tablet (10.1 inch, 2GB, 32GB...   \n",
       "\n",
       "                                                                  5   \\\n",
       "Price And Savings  ₹9,979₹9,979 ₹16,000₹16,000  Save ₹6,021 (38%)...   \n",
       "Laptop             Lenovo GX20L29764 65W Laptop Adapter/Charger w...   \n",
       "\n",
       "                                                                  6   \\\n",
       "Price And Savings  ₹22,999₹22,999 ₹39,000₹39,000  Save ₹16,001 (4...   \n",
       "Laptop             Lenovo Tab M8 2nd Gen Tablet (8-inch, 2GB, 32G...   \n",
       "\n",
       "                                                                  7   \\\n",
       "Price And Savings  ₹13,490₹13,490 ₹21,000₹21,000  Save ₹7,510 (36...   \n",
       "Laptop             Lenovo Tab M10 FHD Plus (2nd Gen) (10.3 inch, ...   \n",
       "\n",
       "                                                                  8   \\\n",
       "Price And Savings  ₹8,990₹8,990 ₹11,999₹11,999  Save ₹3,009 (25%)...   \n",
       "Laptop             Lenovo Tab M10 HD Tablet (10.1-inch, 2GB, 32GB...   \n",
       "\n",
       "                                                                  9   \\\n",
       "Price And Savings  ₹29,990₹29,990 ₹36,590₹36,590  Save ₹6,600 (18...   \n",
       "Laptop             Lenovo Ideapad S145 AMD A6-9225 15.6 inch HD T...   \n",
       "\n",
       "                                                                  10  \\\n",
       "Price And Savings  ₹67,990₹67,990 ₹91,790₹91,790  Save ₹23,800 (2...   \n",
       "Laptop                Lenovo A7 (Blue 4GB RAM, 64GB Internal Memory)   \n",
       "\n",
       "                                                                  11  \\\n",
       "Price And Savings  ₹1,19,990₹1,19,990 ₹1,49,990₹1,49,990  Save ₹3...   \n",
       "Laptop             Lenovo Ideapad S145 AMD RYZEN 3 3200U 15.6-inc...   \n",
       "\n",
       "                                                                  12  \\\n",
       "Price And Savings  ₹8,499₹8,499 ₹14,000₹14,000  Save ₹5,501 (39%)...   \n",
       "Laptop             Lenovo Legion 5 AMD Ryzen 5 4600H 15.6 inch Fu...   \n",
       "\n",
       "                                                                  13  \\\n",
       "Price And Savings  ₹29,490₹29,490 ₹36,990₹36,990  Save ₹7,500 (20...   \n",
       "Laptop             Lenovo Legion 5 AMD Ryzen 7 4800H 15.6-inch FH...   \n",
       "\n",
       "                                                                  14  \\\n",
       "Price And Savings                                               None   \n",
       "Laptop             Lenovo Tab M8 HD Tablet (8-inch, 2GB, 32GB, Wi...   \n",
       "\n",
       "                                                                  15  \n",
       "Price And Savings                                               None  \n",
       "Laptop             Lenovo Ideapad Slim 3 AMD Ryzen 3 15.6 inch FH...  "
      ]
     },
     "execution_count": 15,
     "metadata": {},
     "output_type": "execute_result"
    }
   ],
   "source": [
    "import pandas as pd\n",
    "pd.DataFrame.from_dict(result, orient='index') "
   ]
  },
  {
   "cell_type": "code",
   "execution_count": null,
   "metadata": {},
   "outputs": [],
   "source": []
  }
 ],
 "metadata": {
  "kernelspec": {
   "display_name": "Python 3",
   "language": "python",
   "name": "python3"
  },
  "language_info": {
   "codemirror_mode": {
    "name": "ipython",
    "version": 3
   },
   "file_extension": ".py",
   "mimetype": "text/x-python",
   "name": "python",
   "nbconvert_exporter": "python",
   "pygments_lexer": "ipython3",
   "version": "3.7.1"
  }
 },
 "nbformat": 4,
 "nbformat_minor": 5
}
