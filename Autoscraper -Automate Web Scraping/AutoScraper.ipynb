{
 "cells": [
  {
   "cell_type": "markdown",
   "metadata": {},
   "source": [
    "### Install Autoscrapper"
   ]
  },
  {
   "cell_type": "code",
   "execution_count": 1,
   "metadata": {
    "collapsed": true
   },
   "outputs": [
    {
     "name": "stdout",
     "output_type": "stream",
     "text": [
      "Collecting autoscraper\n",
      "  Downloading https://files.pythonhosted.org/packages/50/44/553afbb7624aaa16e71546196c1f3beb170dd555a2822785889a9da5c2e7/autoscraper-1.1.12-py3-none-any.whl\n",
      "Requirement already satisfied: lxml in c:\\users\\amal.laptop-jcuhdrjj\\anaconda3\\lib\\site-packages (from autoscraper) (4.2.5)\n",
      "Collecting bs4 (from autoscraper)\n",
      "  Using cached https://files.pythonhosted.org/packages/10/ed/7e8b97591f6f456174139ec089c769f89a94a1a4025fe967691de971f314/bs4-0.0.1.tar.gz\n",
      "Requirement already satisfied: requests in c:\\users\\amal.laptop-jcuhdrjj\\anaconda3\\lib\\site-packages (from autoscraper) (2.21.0)\n",
      "Requirement already satisfied: beautifulsoup4 in c:\\users\\amal.laptop-jcuhdrjj\\anaconda3\\lib\\site-packages (from bs4->autoscraper) (4.6.3)\n",
      "Requirement already satisfied: certifi>=2017.4.17 in c:\\users\\amal.laptop-jcuhdrjj\\anaconda3\\lib\\site-packages (from requests->autoscraper) (2018.11.29)\n",
      "Requirement already satisfied: urllib3<1.25,>=1.21.1 in c:\\users\\amal.laptop-jcuhdrjj\\anaconda3\\lib\\site-packages (from requests->autoscraper) (1.24.1)\n",
      "Requirement already satisfied: idna<2.9,>=2.5 in c:\\users\\amal.laptop-jcuhdrjj\\anaconda3\\lib\\site-packages (from requests->autoscraper) (2.8)\n",
      "Requirement already satisfied: chardet<3.1.0,>=3.0.2 in c:\\users\\amal.laptop-jcuhdrjj\\anaconda3\\lib\\site-packages (from requests->autoscraper) (3.0.4)\n",
      "Building wheels for collected packages: bs4\n",
      "  Running setup.py bdist_wheel for bs4: started\n",
      "  Running setup.py bdist_wheel for bs4: finished with status 'done'\n",
      "  Stored in directory: C:\\Users\\Amal.LAPTOP-JCUHDRJJ\\AppData\\Local\\pip\\Cache\\wheels\\a0\\b0\\b2\\4f80b9456b87abedbc0bf2d52235414c3467d8889be38dd472\n",
      "Successfully built bs4\n",
      "Installing collected packages: bs4, autoscraper\n",
      "Successfully installed autoscraper-1.1.12 bs4-0.0.1\n"
     ]
    }
   ],
   "source": [
    "!pip install autoscraper"
   ]
  },
  {
   "cell_type": "markdown",
   "metadata": {},
   "source": [
    "# Github"
   ]
  },
  {
   "cell_type": "code",
   "execution_count": 21,
   "metadata": {},
   "outputs": [
    {
     "data": {
      "text/plain": [
       "['ML_Assignments',\n",
       " 'Natural_Language_Processing',\n",
       " 'amalaj7',\n",
       " 'AmazonProductReviews',\n",
       " 'Pyspark-Notes',\n",
       " 'Flipkart_ProductReview_Scraping',\n",
       " 'Word-Frequency-In-WebPages',\n",
       " 'waferops']"
      ]
     },
     "execution_count": 21,
     "metadata": {},
     "output_type": "execute_result"
    }
   ],
   "source": [
    "from autoscraper import AutoScraper\n",
    "\n",
    "url = 'https://github.com/amalaj7?tab=repositories'\n",
    "\n",
    "wanted_list = ['ML_Assignments']\n",
    "\n",
    "scraper = AutoScraper()\n",
    "scraper.build(url, wanted_list)"
   ]
  },
  {
   "cell_type": "code",
   "execution_count": 22,
   "metadata": {},
   "outputs": [
    {
     "data": {
      "text/plain": [
       "{'rule_j1f3': ['ML_Assignments',\n",
       "  'Natural_Language_Processing',\n",
       "  'amalaj7',\n",
       "  'AmazonProductReviews',\n",
       "  'Pyspark-Notes',\n",
       "  'Flipkart_ProductReview_Scraping',\n",
       "  'Word-Frequency-In-WebPages',\n",
       "  'waferops']}"
      ]
     },
     "execution_count": 22,
     "metadata": {},
     "output_type": "execute_result"
    }
   ],
   "source": [
    "scraper.get_result_similar(\"https://github.com/amalaj7?tab=repositories\",grouped=True)"
   ]
  },
  {
   "cell_type": "code",
   "execution_count": 23,
   "metadata": {},
   "outputs": [],
   "source": [
    "scraper.set_rule_aliases({'rule_j1f3': 'repository'})\n",
    "scraper.keep_rules(['rule_j1f3'])"
   ]
  },
  {
   "cell_type": "code",
   "execution_count": 24,
   "metadata": {},
   "outputs": [
    {
     "data": {
      "text/plain": [
       "{'repository': ['chabot_video_codes',\n",
       "  'MachineLearningModelToPivotal',\n",
       "  'MachineLearningModelToAzure',\n",
       "  'MachineLearningModelToHeroku',\n",
       "  'MachineLearningModelToGCP',\n",
       "  'flaskWeatherApp',\n",
       "  'MachineLearningModelToAWS',\n",
       "  'same-resume-year-wise',\n",
       "  'interview-question-data-science-',\n",
       "  'sudhtest87435353',\n",
       "  '-bigsparkrepo',\n",
       "  'deep-learning-drizzle\\n\\n\\n          Forked from kmario23/deep-learning-drizzle',\n",
       "  'Ineuron-Arhcitecture',\n",
       "  'zomatoEDA',\n",
       "  'A',\n",
       "  'assignmentrepo',\n",
       "  'allMLProjects',\n",
       "  'TimeSeries',\n",
       "  'assignemnt-',\n",
       "  'code',\n",
       "  'xyz',\n",
       "  'waffer-project',\n",
       "  'DeepLearningDocs',\n",
       "  'webscrappper_text',\n",
       "  'DecisionTrees',\n",
       "  'PrincipalComponentAnalysis',\n",
       "  'Working-with-MongoDB',\n",
       "  'imageScrapper\\n\\n\\n          Forked from viratsagar/imageScrapper',\n",
       "  'Chatbots_using_Dialogflow',\n",
       "  'AzureWeatherBot']}"
      ]
     },
     "execution_count": 24,
     "metadata": {},
     "output_type": "execute_result"
    }
   ],
   "source": [
    "result=scraper.get_result_similar(\"https://github.com/iNeuronai?tab=repositories\",group_by_alias=True)\n",
    "result"
   ]
  },
  {
   "cell_type": "markdown",
   "metadata": {},
   "source": [
    "# Wikipedia"
   ]
  },
  {
   "cell_type": "code",
   "execution_count": null,
   "metadata": {},
   "outputs": [],
   "source": [
    "## cnn "
   ]
  },
  {
   "cell_type": "code",
   "execution_count": 38,
   "metadata": {
    "collapsed": true
   },
   "outputs": [
    {
     "name": "stdout",
     "output_type": "stream",
     "text": [
      "['Neuromorphic engineering', 'Attention', 'Julia', 'Artificial Intelligence', 'SpiNNaker', 'Theano', 'Yann LeCun', 'Google Brain', 'Deep learning', 'Regularization (mathematics)', 'Artificial neuron', 'Filter (signal processing)', 'Convolution', 'Multilayer perceptron', 'Tensor', 'Receptive field', 'Feature (machine learning)', 'David H. Hubel', 'Neocognitron', 'Backpropagation', 'Time delay neural network', 'Syllable', 'ZIP Code', 'Computer vision', 'Mammography', 'Electromyography', 'Graphics processing unit', 'Machine learning', 'Coprocessor', 'CIFAR-10', 'Locality of reference', 'Visual cortex', 'Sparse network', 'Hyperparameter optimization', 'Hyperparameter (machine learning)', 'Integer', 'Downsampling (signal processing)', 'Memory footprint', 'Average', 'Region of interest', 'Object detection', 'Rectifier (neural networks)', 'Sigmoid function', 'Artificial neural network', 'Loss function', 'Softmax function', 'Overfitting', 'Dimensionality reduction', 'Equivariant map', 'Expected value', 'Deterministic algorithm', 'MNIST database', 'Elastic net regularization', 'Sparse approximation', 'Retina', 'Visual system', 'Per-comparison error rate', 'Facial recognition system', 'DeepDream', 'Long short-term memory', 'Natural language processing', 'Drug discovery', 'Time series', 'Draughts', 'Computer Go', 'AlphaGo', 'Clay tablet', 'Q-learning', 'Atari 2600', 'Deep belief network', 'deep learning', 'regularized', 'neurons', 'filters', 'convolution', 'hidden layers', 'tensor', 'receptive field', 'features', 'Hubel', 'neocognitron', 'backpropagation', 'time delay neural network', 'syllable', 'computer vision', 'LeCun', 'mammograms', 'electromyography', 'graphics processing units', 'machine learning', 'coprocessor', 'multilayer perceptron', 'locality of reference', 'visual cortex', 'vision problems', 'sparse local connectivity', 'hyperparameter', 'hyperparameters', 'integer', 'down-sampling', 'memory footprint', 'average', 'Region of Interest', 'object detection', 'rectified linear unit', 'sigmoid function', 'artificial neural networks', 'loss function', 'Softmax', 'overfitting', 'downsampled', 'reduce the dimension', 'equivariant', 'Regularization', 'expected value', 'deterministic', 'MNIST data set', 'projected gradient descent', 'retina', 'visual system', 'error rate', 'facial recognition', 'natural language processing', 'drug discovery', 'time series', 'checkers', 'computer Go', 'clay tablets', 'deep belief networks', 'Convolutional neural network']\n"
     ]
    }
   ],
   "source": [
    "from autoscraper import AutoScraper\n",
    "\n",
    "url = 'https://en.wikipedia.org/wiki/Convolutional_neural_network'\n",
    "\n",
    "wanted_list = [\"Yann LeCun\",'Convolutional neural network']\n",
    "\n",
    "scraper = AutoScraper()\n",
    "result = scraper.build(url, wanted_list)\n",
    "print(result)"
   ]
  },
  {
   "cell_type": "code",
   "execution_count": 39,
   "metadata": {},
   "outputs": [
    {
     "data": {
      "text/plain": [
       "{'rule_nilk': [],\n",
       " 'rule_xuy5': ['Convolutional neural network',\n",
       "  'Convolutional neural network',\n",
       "  'Yann LeCun',\n",
       "  'Léon Bottou',\n",
       "  'Convolution',\n",
       "  'Yann LeCun',\n",
       "  'Convolutional neural network',\n",
       "  'Convolutional neural network'],\n",
       " 'rule_davt': ['convolutional neural network',\n",
       "  'convolutional neural networks',\n",
       "  'Yann LeCun',\n",
       "  'Leon Bottou',\n",
       "  'convolution layer',\n",
       "  'Yann LeCun',\n",
       "  'CNN',\n",
       "  'CNN'],\n",
       " 'rule_u6gv': [],\n",
       " 'rule_sukb': ['LeNet']}"
      ]
     },
     "execution_count": 39,
     "metadata": {},
     "output_type": "execute_result"
    }
   ],
   "source": [
    "scraper.get_result_similar(\"https://en.wikipedia.org/wiki/LeNet\",grouped=True)"
   ]
  },
  {
   "cell_type": "code",
   "execution_count": 40,
   "metadata": {},
   "outputs": [],
   "source": [
    "scraper.set_rule_aliases({'rule_xuy5':'CNN','rule_davt':'CNN and its founders '\n",
    "                          ,'rule_sukb':'CNN modelName'})\n",
    "scraper.keep_rules(['rule_xuy5', 'rule_davt','rule_sukb'])"
   ]
  },
  {
   "cell_type": "code",
   "execution_count": 41,
   "metadata": {},
   "outputs": [],
   "source": [
    "result=scraper.get_result_similar(\"https://en.wikipedia.org/wiki/LeNet\",group_by_alias=True)"
   ]
  },
  {
   "cell_type": "code",
   "execution_count": 42,
   "metadata": {},
   "outputs": [
    {
     "data": {
      "text/plain": [
       "{'CNN': ['Convolutional neural network',\n",
       "  'Convolutional neural network',\n",
       "  'Yann LeCun',\n",
       "  'Léon Bottou',\n",
       "  'Convolution',\n",
       "  'Yann LeCun',\n",
       "  'Convolutional neural network',\n",
       "  'Convolutional neural network'],\n",
       " 'CNN and its founders ': ['convolutional neural network',\n",
       "  'convolutional neural networks',\n",
       "  'Yann LeCun',\n",
       "  'Leon Bottou',\n",
       "  'convolution layer',\n",
       "  'Yann LeCun',\n",
       "  'CNN',\n",
       "  'CNN'],\n",
       " 'CNN modelName': ['LeNet']}"
      ]
     },
     "execution_count": 42,
     "metadata": {},
     "output_type": "execute_result"
    }
   ],
   "source": [
    "result"
   ]
  },
  {
   "cell_type": "markdown",
   "metadata": {},
   "source": [
    "# Flipkart"
   ]
  },
  {
   "cell_type": "code",
   "execution_count": 81,
   "metadata": {
    "collapsed": true
   },
   "outputs": [
    {
     "name": "stdout",
     "output_type": "stream",
     "text": [
      "['APPLE iPhone 11 (Black, 64 GB)', 'APPLE iPhone 11 (White, 64 GB)', 'APPLE iPhone 11 (Purple, 64 GB)', 'CASVO 10\" Professional big LED Ring Light With 6 Feet T...', 'APPLE iPhone 11 (Red, 64 GB)', 'APPLE iPhone SE (Black, 64 GB)', 'APPLE iPhone 11 (Black, 128 GB)', 'Apple iPhone XR (Black, 64 GB) (Includes EarPods, Power...', 'Apple iPhone XR (Black, 128 GB) (Includes EarPods, Powe...', 'Apple iPhone XR (White, 128 GB) (Includes EarPods, Powe...', 'APPLE iPhone SE (White, 64 GB)', 'APPLE iPhone 12 Mini (Green, 64 GB)', 'APPLE iPhone 11 (Green, 64 GB)', 'CZARTECH Tempered Glass Guard for Apple iPhone 12, Appl...', 'Case Plus White Audio Adapter 3.5 mm Jack Converter Hea...', 'APPLE iPhone SE (White, 128 GB)', 'APPLE iPhone SE (Black, 128 GB)', 'APPLE iPhone 12 Mini (Blue, 128 GB)', 'APPLE iPhone 12 (White, 64 GB)', 'CZARTECH Tempered Glass Guard for Apple iPhone XS Max, ...', 'APPLE iPhone 12 Mini (Black, 128 GB)', 'APPLE iPhone 12 Mini (Black, 64 GB)', 'APPLE iPhone 12 (Blue, 64 GB)', 'aadtail Tempered Glass Guard for Apple iPhone 8 Plus', 'APPLE iPhone 11 Pro (Midnight Green, 64 GB)', 'APPLE iPhone 12 (Blue, 128 GB)', 'APPLE iPhone 12 Mini (White, 128 GB)', 'APPLE iPhone 12 (Green, 128 GB)', 'APPLE iPhone 12 (White, 128 GB)', 'aadtail Tempered Glass Guard for Apple iPhone 8', 'RR Gallery Front and Back Tempered Glass for Apple iPho...', 'Apple iPhone XR ((PRODUCT)RED, 128 GB) (Includes EarPod...', 'APPLE iPhone 12 (White, 256 GB)', 'Apple iPhone SE (Black, 256 GB) (Includes EarPods, Powe...', 'APPLE iPhone 12 Mini (Red, 64 GB)', 'Apple iPhone SE (White, 256 GB) (Includes EarPods, Powe...', 'APPLE iPhone 12 (Black, 128 GB)', 'APPLE iPhone 12 Pro (Pacific Blue, 128 GB)', 'APPLE iPhone 12 (Red, 128 GB)', 'APPLE iPhone 12 Pro (Pacific Blue, 256 GB)', 'CASVO 10', 'Apple iPhone XR (Black, 64 GB) (Includes EarPods, Power Adapter)', 'Apple iPhone XR (Black, 128 GB) (Includes EarPods, Power Adapter)', 'Apple iPhone XR (White, 128 GB) (Includes EarPods, Power Adapter)', 'CZARTECH Tempered Glass Guard for Apple iPhone 12, Apple iPhone 12 pro', 'Case Plus White Audio Adapter 3.5 mm Jack Converter Headphone Jack Adapter Connector Support Music Control & Calling Function for iPhone Xs MAX/XR/X/8/7/Plus/6S/6/SE/5S/5C/Pad/for All iOS Devices Phone Converter', 'CZARTECH Tempered Glass Guard for Apple iPhone XS Max, iPhone 11 Pro Max', 'RR Gallery Front and Back Tempered Glass for Apple iPhone 11', 'Apple iPhone XR ((PRODUCT)RED, 128 GB) (Includes EarPods, Power Adapter)', 'Apple iPhone SE (Black, 256 GB) (Includes EarPods, Power Adapter)', 'Apple iPhone SE (White, 256 GB) (Includes EarPods, Power Adapter)', '₹46,999', '₹51,999', '₹994', '₹32,999', '₹56,999', '₹41,999', '₹65,900', '₹449', '₹329', '₹37,999', '₹70,900', '₹77,900', '₹199', '₹79,999', '₹82,900', '₹249', '₹92,900', '₹47,999', '₹1,15,900', '₹1,25,900']\n"
     ]
    }
   ],
   "source": [
    "from autoscraper import AutoScraper\n",
    "\n",
    "url = 'https://www.flipkart.com/search?q=iphone'\n",
    "\n",
    "wanted_list = ['APPLE iPhone 11 (Black, 64 GB)','₹46,999',\n",
    "               'https://www.flipkart.com/apple-iphone-11-black-64-gb/']\n",
    "\n",
    "scraper = AutoScraper()\n",
    "result = scraper.build(url, wanted_list)\n",
    "print(result)"
   ]
  },
  {
   "cell_type": "code",
   "execution_count": 99,
   "metadata": {
    "collapsed": true
   },
   "outputs": [
    {
     "data": {
      "text/plain": [
       "{'rule_kgln': ['APPLE iPhone 11 Pro (Midnight Green, 64 GB)',\n",
       "  'ViVO V11 Pro (Starry Night Black, 64 GB)',\n",
       "  'ViVO V11 Pro (Dazzling Gold, 64 GB)',\n",
       "  'Hupshy Edge To Edge Tempered Glass for Realme Narzo 30 ...',\n",
       "  'APPLE iPhone 11 Pro (Space Grey, 64 GB)',\n",
       "  'ViVO V11 Pro (Supernova Red, 64 GB)',\n",
       "  'OPPO F11 Pro (Thunder Black, 128 GB)',\n",
       "  'OPPO F11 Pro (Thunder Black, 64 GB)',\n",
       "  'OPPO F11 Pro (Aurora Green, 64 GB)',\n",
       "  'OPPO F11 Pro (Waterfall Grey, 128 GB)',\n",
       "  'OPPO F11 Pro (Aurora Green, 128 GB)',\n",
       "  'OPPO Wall Charger Accessory Combo for All Mobile Phones',\n",
       "  'CEDO XPRO Edge To Edge Tempered Glass for Apple iPhone ...',\n",
       "  'TECHSHIELD Edge To Edge Tempered Glass for Apple ipad A...',\n",
       "  'D & Y Edge To Edge Tempered Glass for Apple iPhone 11 P...',\n",
       "  'MOBIVIILE Edge To Edge Tempered Glass for Apple iPad Pr...',\n",
       "  'Flipkart SmartBuy Edge To Edge Tempered Glass for Vivo ...',\n",
       "  'TexoVera Edge To Edge Tempered Glass for Vivo X60 Pro',\n",
       "  'Lenovo Tab P11 Pro 6 GB RAM 128 GB ROM 11.5 inch with W...',\n",
       "  'Techstuff Edge To Edge Tempered Glass for APPLE I PHONE...',\n",
       "  'Flipkart SmartBuy Edge To Edge Tempered Glass for Realm...',\n",
       "  'Hupshy Edge To Edge Tempered Glass for OPPO F11 Pro, OP...',\n",
       "  'RidivishN Edge To Edge Tempered Glass for Mi Redmi Note...',\n",
       "  'NAXTON Impossible Screen Guard for IPHONE 11PRO',\n",
       "  'Karpine Front and Back Screen Guard for OPPO F11 Pro',\n",
       "  'VILLA Tempered Glass Guard for Vivo V15 Pro',\n",
       "  'VILLA Tempered Glass Guard for Realme 2 Pro',\n",
       "  'GS Smart Front and Back Tempered Glass for Apple iPhone...',\n",
       "  'DUDAO 10000 mAh Power Bank (18 W, Quick Charge 2.0)',\n",
       "  'CEDO XPRO Edge To Edge Tempered Glass for iPad Pro 11in...',\n",
       "  'Power Up 10000 mAh Power Bank',\n",
       "  'VILLA Tempered Glass Guard for Vivo Z1 pro',\n",
       "  'D & Y Edge To Edge Tempered Glass for Apple iPhone 11 P...',\n",
       "  'UOIEA Edge To Edge Tempered Glass for Apple iPhone 11 P...',\n",
       "  'VILLA Tempered Glass Guard for Vivo V15 Pro',\n",
       "  'Akkase Edge To Edge Tempered Glass for Redmi Note 7, Re...',\n",
       "  'VaiMi Tempered Glass Guard for Apple iPhone X, Apple iP...',\n",
       "  'TheBroCool Edge To Edge Tempered Glass for Vivo V11 Pro',\n",
       "  'Duepio Front and Back Screen Guard for Oppo F11 Pro',\n",
       "  'UOIEA Edge To Edge Tempered Glass for Apple iPhone 11 P...'],\n",
       " 'rule_4lku': ['APPLE iPhone 11 Pro (Midnight Green, 64 GB)',\n",
       "  'ViVO V11 Pro (Starry Night Black, 64 GB)',\n",
       "  'ViVO V11 Pro (Dazzling Gold, 64 GB)',\n",
       "  'Hupshy Edge To Edge Tempered Glass for Realme Narzo 30 Pro 5G',\n",
       "  'OPPO Wall Charger Accessory Combo for All Mobile Phones',\n",
       "  'CEDO XPRO Edge To Edge Tempered Glass for Apple iPhone X, Apple iPhone XS, Apple iPhone 11 Pro',\n",
       "  'TECHSHIELD Edge To Edge Tempered Glass for Apple ipad Air 4th generation/ Ipad pro 11 (2020/2018)',\n",
       "  'D & Y Edge To Edge Tempered Glass for Apple iPhone 11 Pro, Apple iPhone X, Apple iPhone XS',\n",
       "  'MOBIVIILE Edge To Edge Tempered Glass for Apple iPad Pro 11 inch, Apple iPad Air 4 10.9 inch New 2020 Model',\n",
       "  'Flipkart SmartBuy Edge To Edge Tempered Glass for Vivo V11 Pro',\n",
       "  'TexoVera Edge To Edge Tempered Glass for Vivo X60 Pro',\n",
       "  'Lenovo Tab P11 Pro 6 GB RAM 128 GB ROM 11.5 inch with Wi-Fi+4G Tablet (Slate Grey)',\n",
       "  'Techstuff Edge To Edge Tempered Glass for APPLE I PHONE 11, APPLIE I PHONE XR',\n",
       "  'Flipkart SmartBuy Edge To Edge Tempered Glass for Realme 6, Realme 6i, Realme 7, Realme 7i, Realme Narzo 20 Pro, Oppo A52, Realme X7 Pro, Oppo Reno2 F, OPPO Reno 2z, Vivo Z1 Pro',\n",
       "  'Hupshy Edge To Edge Tempered Glass for OPPO F11 Pro, OPPO K3, Realme X',\n",
       "  'RidivishN Edge To Edge Tempered Glass for Mi Redmi Note 8 Pro',\n",
       "  'NAXTON Impossible Screen Guard for IPHONE 11PRO',\n",
       "  'Karpine Front and Back Screen Guard for OPPO F11 Pro',\n",
       "  'VILLA Tempered Glass Guard for Vivo V15 Pro',\n",
       "  'VILLA Tempered Glass Guard for Realme 2 Pro',\n",
       "  'GS Smart Front and Back Tempered Glass for Apple iPhone 11 Pro {Flexible}',\n",
       "  'DUDAO 10000 mAh Power Bank (18 W, Quick Charge 2.0)',\n",
       "  'CEDO XPRO Edge To Edge Tempered Glass for iPad Pro 11inch 2018',\n",
       "  'Power Up 10000 mAh Power Bank',\n",
       "  'VILLA Tempered Glass Guard for Vivo Z1 pro',\n",
       "  'D & Y Edge To Edge Tempered Glass for Apple iPhone 11 Pro max, Apple iPhone XS Pro max',\n",
       "  'UOIEA Edge To Edge Tempered Glass for Apple iPhone 11 Pro',\n",
       "  'VILLA Tempered Glass Guard for Vivo V15 Pro',\n",
       "  'Akkase Edge To Edge Tempered Glass for Redmi Note 7, Redmi Note 7 Pro',\n",
       "  'VaiMi Tempered Glass Guard for Apple iPhone X, Apple iPhone XS, Apple iPhone 11 Pro',\n",
       "  'TheBroCool Edge To Edge Tempered Glass for Vivo V11 Pro',\n",
       "  'Duepio Front and Back Screen Guard for Oppo F11 Pro',\n",
       "  'UOIEA Edge To Edge Tempered Glass for Apple iPhone 11 Pro Max'],\n",
       " 'rule_hfjy': ['₹79,999',\n",
       "  '₹28,990',\n",
       "  '₹22,654',\n",
       "  '₹179',\n",
       "  '₹79,999',\n",
       "  '₹28,990',\n",
       "  '₹14,990',\n",
       "  '₹13,990',\n",
       "  '₹13,990',\n",
       "  '₹14,990',\n",
       "  '₹14,990',\n",
       "  '₹319',\n",
       "  '₹195',\n",
       "  '₹479',\n",
       "  '₹399',\n",
       "  '₹501',\n",
       "  '₹168',\n",
       "  '₹699',\n",
       "  '₹44,990',\n",
       "  '₹196',\n",
       "  '₹199',\n",
       "  '₹179',\n",
       "  '₹199',\n",
       "  '₹199',\n",
       "  '₹219',\n",
       "  '₹142',\n",
       "  '₹142',\n",
       "  '₹199',\n",
       "  '₹969',\n",
       "  '₹349',\n",
       "  '₹999',\n",
       "  '₹138',\n",
       "  '₹399',\n",
       "  '₹434',\n",
       "  '₹205',\n",
       "  '₹229',\n",
       "  '₹299',\n",
       "  '₹224',\n",
       "  '₹229',\n",
       "  '₹434'],\n",
       " 'rule_25gg': ['₹79,999',\n",
       "  '₹28,990',\n",
       "  '₹22,654',\n",
       "  '₹179',\n",
       "  '₹79,999',\n",
       "  '₹28,990',\n",
       "  '₹14,990',\n",
       "  '₹13,990',\n",
       "  '₹13,990',\n",
       "  '₹14,990',\n",
       "  '₹14,990',\n",
       "  '₹319',\n",
       "  '₹195',\n",
       "  '₹479',\n",
       "  '₹399',\n",
       "  '₹501',\n",
       "  '₹168',\n",
       "  '₹699',\n",
       "  '₹44,990',\n",
       "  '₹196',\n",
       "  '₹199',\n",
       "  '₹179',\n",
       "  '₹199',\n",
       "  '₹199',\n",
       "  '₹219',\n",
       "  '₹142',\n",
       "  '₹142',\n",
       "  '₹199',\n",
       "  '₹969',\n",
       "  '₹349',\n",
       "  '₹999',\n",
       "  '₹138',\n",
       "  '₹399',\n",
       "  '₹434',\n",
       "  '₹205',\n",
       "  '₹229',\n",
       "  '₹299',\n",
       "  '₹224',\n",
       "  '₹229',\n",
       "  '₹434'],\n",
       " 'rule_vd1v': ['₹79,999',\n",
       "  '₹28,990',\n",
       "  '₹22,654',\n",
       "  '₹179',\n",
       "  '₹79,999',\n",
       "  '₹28,990',\n",
       "  '₹14,990',\n",
       "  '₹13,990',\n",
       "  '₹13,990',\n",
       "  '₹14,990',\n",
       "  '₹14,990',\n",
       "  '₹319',\n",
       "  '₹195',\n",
       "  '₹479',\n",
       "  '₹399',\n",
       "  '₹501',\n",
       "  '₹168',\n",
       "  '₹699',\n",
       "  '₹44,990',\n",
       "  '₹196',\n",
       "  '₹199',\n",
       "  '₹179',\n",
       "  '₹199',\n",
       "  '₹199',\n",
       "  '₹219',\n",
       "  '₹142',\n",
       "  '₹142',\n",
       "  '₹199',\n",
       "  '₹969',\n",
       "  '₹349',\n",
       "  '₹999',\n",
       "  '₹138',\n",
       "  '₹399',\n",
       "  '₹434',\n",
       "  '₹205',\n",
       "  '₹229',\n",
       "  '₹299',\n",
       "  '₹224',\n",
       "  '₹229',\n",
       "  '₹434'],\n",
       " 'rule_xups': ['₹79,999',\n",
       "  '₹28,990',\n",
       "  '₹22,654',\n",
       "  '₹179',\n",
       "  '₹79,999',\n",
       "  '₹28,990',\n",
       "  '₹14,990',\n",
       "  '₹13,990',\n",
       "  '₹13,990',\n",
       "  '₹14,990',\n",
       "  '₹14,990',\n",
       "  '₹319',\n",
       "  '₹195',\n",
       "  '₹479',\n",
       "  '₹399',\n",
       "  '₹501',\n",
       "  '₹168',\n",
       "  '₹699',\n",
       "  '₹44,990',\n",
       "  '₹196',\n",
       "  '₹199',\n",
       "  '₹179',\n",
       "  '₹199',\n",
       "  '₹199',\n",
       "  '₹219',\n",
       "  '₹142',\n",
       "  '₹142',\n",
       "  '₹199',\n",
       "  '₹969',\n",
       "  '₹349',\n",
       "  '₹999',\n",
       "  '₹138',\n",
       "  '₹399',\n",
       "  '₹434',\n",
       "  '₹205',\n",
       "  '₹229',\n",
       "  '₹299',\n",
       "  '₹224',\n",
       "  '₹229',\n",
       "  '₹434'],\n",
       " 'rule_v05e': ['₹79,999',\n",
       "  '₹28,990',\n",
       "  '₹22,654',\n",
       "  '₹179',\n",
       "  '₹79,999',\n",
       "  '₹28,990',\n",
       "  '₹14,990',\n",
       "  '₹13,990',\n",
       "  '₹13,990',\n",
       "  '₹14,990',\n",
       "  '₹14,990',\n",
       "  '₹319',\n",
       "  '₹195',\n",
       "  '₹479',\n",
       "  '₹399',\n",
       "  '₹501',\n",
       "  '₹168',\n",
       "  '₹699',\n",
       "  '₹44,990',\n",
       "  '₹196',\n",
       "  '₹199',\n",
       "  '₹179',\n",
       "  '₹199',\n",
       "  '₹199',\n",
       "  '₹219',\n",
       "  '₹142',\n",
       "  '₹142',\n",
       "  '₹199',\n",
       "  '₹969',\n",
       "  '₹349',\n",
       "  '₹999',\n",
       "  '₹138',\n",
       "  '₹399',\n",
       "  '₹434',\n",
       "  '₹205',\n",
       "  '₹229',\n",
       "  '₹299',\n",
       "  '₹224',\n",
       "  '₹229',\n",
       "  '₹434']}"
      ]
     },
     "execution_count": 99,
     "metadata": {},
     "output_type": "execute_result"
    }
   ],
   "source": [
    "scraper.get_result_similar(\"https://www.flipkart.com/search?q=11 pro\",grouped=True)"
   ]
  },
  {
   "cell_type": "markdown",
   "metadata": {},
   "source": [
    "# Amazon"
   ]
  },
  {
   "cell_type": "code",
   "execution_count": 4,
   "metadata": {
    "collapsed": true
   },
   "outputs": [
    {
     "name": "stdout",
     "output_type": "stream",
     "text": [
      "['ASUS VivoBook 14 (2020) Intel Quad Core Pentium Silver N5030, 14-inch FHD Thin and Light Laptop (4GB RAM/1TB HDD/Windows 10/Integrated Graphics/Transparent Silver/1.5 Kg), X415MA-EK101T', '₹24,990₹24,990\\n₹31,990₹31,990\\n\\nSave ₹7,000 (22%)Save extra with No Cost EMI', 'Asus X509MA-BR270T/ Silver/ Intel Celeron N4020/ RAM 4GB/ SSD 256GB/ 15.6 inch HD/ FP/ 2Cell/ Win 10SL', '₹23,300₹23,300\\n₹31,990₹31,990\\n\\nSave ₹8,690 (27%)Save extra with No Cost EMI', 'ASUS VivoBook 14 (2020) Intel Core i3-1005G1 10th Gen 14-inch FHD Thin and Light Laptop (8GB RAM/1TB HDD + 128GB NVMe SSD/Integrated Graphics/Windows 10/Slate Grey/1.6 kg), X415JA-EK331T', '₹38,990₹38,990\\n₹49,990₹49,990\\n\\nSave ₹11,000 (22%)Save extra with No Cost EMI', 'Asus Vivobook M515DA-EJ001T- AMD Athlon Silver 3050U, 2.3 GHz / 4GB DDR4 / 1TB HDD / 15.6\" FHD / AMD RadeonTM Integrated Graphics / Windows 10 Home / 1Yr Warranty / Grey', '₹26,590₹26,590\\n₹32,990₹32,990\\n\\nSave ₹6,400 (19%)Save extra with No Cost EMI', 'Asus Vivobook M515DA-EJ301T - AMD Ryzen 3 3250U 2.6 GHz / 4GB DDR4 / 1TB HDD / 15.6\"FHD / AMD RadeonTM Integrated Graphics / Windows 10 Home / 1Yr Warranty / Grey / 1.8 Kgs', '₹31,399₹31,399\\n₹37,990₹37,990\\n\\nSave ₹6,591 (17%)Save extra with No Cost EMI', 'ASUS VivoBook Ultra 15 AMD Ryzen 5 4500U 15.6-inch FHD Thin and Light Laptop (8GB RAM/512GB NVMe SSD/Windows 10/Integrated Graphics/Bespoke Black/1.80 kg), M513IA-EJ310T', '₹51,990₹51,990\\n₹64,990₹64,990\\n\\nSave ₹13,000 (20%)Save extra with No Cost EMI', 'ASUS ROG Strix Z590-F Gaming WiFi Intel Z590 LGA 1200 11th Gen ATX Motherboard with PCIe 4.0 Wi-Fi 6E AI Overclocking & Cooling and Thunderbolt 4 Support', '₹31,999₹31,999\\n₹51,000₹51,000\\n\\nSave ₹19,001 (37%)Save extra with No Cost EMI', 'ASUS ROG Strix G17 17.3\" FHD 120Hz Intel Core i7-10750H 10th Gen, GTX 1660Ti 6GB Graphics (16GB RAM/512GB NVMe SSD/Windows 10/Original Black/2.83 Kg), G712LU-H7015T + Xbox Game Pass for PC', '₹97,990₹97,990\\n₹1,42,990₹1,42,990\\n\\nSave ₹45,000 (31%)Save extra with No Cost EMI', 'ASUS VivoBook 14 (2020) Intel Core i3-1005G1 10th Gen 14-inch FHD Thin and Light Laptop (4GB/1TB HDD/Integrated Graphics/Windows 10/MS Office 2019/Transparent Silver/1.6 kg), X415JA-EK302TS', '₹33,490₹33,490\\n₹42,990₹42,990\\n\\nSave ₹9,500 (22%)Save extra with No Cost EMI', 'ASUS VIVOBOOK X515JA-EJ321T i3-1005G1//8G/1TB HDD/Slate GREY/15.6\"FHD/1Y International Warranty + McAfee//Finger Print/', '₹37,100₹37,100\\n₹43,990₹43,990\\n\\nSave ₹6,890 (16%)Save extra with No Cost EMI', 'ASUS ROG Strix Z590-E Gaming WiFi Intel Z590 LGA 1200 11th Gen ATX Motherboard with PCIe 4.0 Wi-Fi 6E AI Overclocking & Cooling and Thunderbolt 4 Support', '₹36,899₹36,899\\n₹58,500₹58,500\\n\\nSave ₹21,601 (37%)Save extra with No Cost EMI', '(Renewed) Asus ZenFone Max Pro M2 64 GB | 4 GB RAM (Blue)', '₹9,499₹9,499\\n₹19,999₹19,999\\n\\nSave ₹10,500 (53%)10%  Off on Citi Bank Cards', 'Asus Vivobook X515MA-EJ001T/ Silver/ Intel Celeron N4020/ RAM 4GB/ HDD 1 TB / 15.6 inch HD/ FP/ 2Cell/ Win10 Home', '₹22,979₹22,979\\n₹28,990₹28,990\\n\\nSave ₹6,011 (21%)Save extra with No Cost EMI', '(Renewed) Asus Zenfone Max M2 (Blue, 3GB RAM, 32GB Storage)', '₹7,899₹7,899\\n₹12,999₹12,999\\n\\nSave ₹5,100 (39%)10%  Off on Citi Bank Cards', 'ASUS ROG Zephyrus G14, 14\" QHD, Ryzen 9 4900HS, RTX 2060 Max Q 6GB GDDR6 Graphics, Gaming Laptop (16GB/1TB SSD/MS Office 2019/Windows 10/Moonlight White/Anime Matrix/1.7 Kg), GA401IV-HA174TS', '₹1,40,990₹1,40,990\\n₹1,94,990₹1,94,990\\n\\nSave ₹54,000 (28%)Save extra with No Cost EMI', 'Asus AD45-00B 45W Laptop Adapter/Charger Without Power Cord for Select Models of ASUS (20 V, 2.5 A, 4 mm x 1.2mm Diameter', 'ASUS VivoBook 14 (2020) Intel Quad Core Pentium Silver N5030, 14-inch FHD Thin and Light Laptop (4GB RAM/1TB HDD/Windows 1...', 'ASUS VivoBook 14 (2020) Intel Core i3-1005G1 10th Gen 14-inch FHD Thin and Light Laptop (8GB RAM/1TB HDD + 128GB NVMe SSD/...', 'Asus Vivobook M515DA-EJ001T- AMD Athlon Silver 3050U, 2.3 GHz / 4GB DDR4 / 1TB HDD / 15.6', 'Asus Vivobook M515DA-EJ301T - AMD Ryzen 3 3250U 2.6 GHz / 4GB DDR4 / 1TB HDD / 15.6', 'ASUS VivoBook Ultra 15 AMD Ryzen 5 4500U 15.6-inch FHD Thin and Light Laptop (8GB RAM/512GB NVMe SSD/Windows 10/Integrated...', 'ASUS ROG Strix Z590-F Gaming WiFi Intel Z590 LGA 1200 11th Gen ATX Motherboard with PCIe 4.0 Wi-Fi 6E AI Overclocking & Co...', 'ASUS ROG Strix G17 17.3', 'ASUS VivoBook 14 (2020) Intel Core i3-1005G1 10th Gen 14-inch FHD Thin and Light Laptop (4GB/1TB HDD/Integrated Graphics/W...', 'ASUS VIVOBOOK X515JA-EJ321T i3-1005G1//8G/1TB HDD/Slate GREY/15.6', 'ASUS ROG Strix Z590-E Gaming WiFi Intel Z590 LGA 1200 11th Gen ATX Motherboard with PCIe 4.0 Wi-Fi 6E AI Overclocking & Co...', 'ASUS ROG Zephyrus G14, 14', 'ASUS VivoBook 15 (2020) Intel Core i3-1005G1 10th Gen, 15.6-inch FHD Thin and Light Laptop (4GB RAM/1TB HDD/Windows 10/Integrated Graphics/Slate Grey/1.8 Kg), X515JA-EJ301T', 'ASUS ROG Zephyrus G14, 14\" FHD 120Hz, Ryzen 7 4800HS, GTX 1650 Ti 4GB GDDR6 Graphics, Gaming Laptop (8GB/512GB SSD/MS Office 2019/Windows 10/Moonlight White/1.6 Kg), GA401II-HE021TS', 'Asus Vivobook (AMD Ryzen 5-3500U 2.1 GHz/ 8GB DDR4/ 1TB HDD/ 14 inch\"FHD/ AMD Radeon Vega 8 Graphics/ Windows 10 Home/ Slate Grey/ 1.6 Kg) M415DA-EB501T', 'ASUS TUF Gaming F15 Laptop 15.6\" FHD 144Hz, Intel Core i5-10300H 10th Gen, GTX 1660 Ti 6GB Graphics (16GB RAM/1TB SSD/Windows 10/Fortress Gray/2.3 Kg), FX566LU-HN251T', 'ASUS TUF Dash F15 (2021), 15.6\" FHD 240Hz/3ms, Intel Core i7-11370H 11th Gen, GeForce RTX 3070 8GB Graphics, Gaming Laptop (16GB/1TB SSD/Office 2019/Windows 10/Eclipse Gray/2 kg), FX516PR-AZ019TS', 'ASUS VivoBook 15 (2020) Intel Core i3-1005G1 10th Gen, 15.6-inch FHD Thin and Light Laptop (4GB RAM/1TB HDD/Windows 10/Int...', 'Asus Vivobook (AMD Ryzen 5-3500U 2.1 GHz/ 8GB DDR4/ 1TB HDD/ 14 inch', 'ASUS TUF Gaming F15 Laptop 15.6', 'ASUS TUF Dash F15 (2021), 15.6']\n"
     ]
    }
   ],
   "source": [
    "from autoscraper import AutoScraper\n",
    "\n",
    "url = 'https://www.amazon.in/s?k=asus&ref=nb_sb_noss'\n",
    "\n",
    "wanted_list = ['Asus X509MA-BR270T/ Silver/ Intel Celeron N4020/ RAM 4GB/ SSD 256GB/ 15.6 inch HD/ FP/ 2Cell/ Win 10SL ',\n",
    "               '₹ 23,300.00',\n",
    "               'https://www.amazon.in/Asus-X509MA-BR270T-Silver-Intel-Celeron/']\n",
    "\n",
    "scraper = AutoScraper()\n",
    "result = scraper.build(url, wanted_list)\n",
    "print(result)"
   ]
  },
  {
   "cell_type": "code",
   "execution_count": 5,
   "metadata": {
    "collapsed": true
   },
   "outputs": [
    {
     "data": {
      "text/plain": [
       "{'rule_oszo': ['Lenovo Tab M10 FHD Plus Tablet (10.3-inch, 4GB, 128GB, Wi-Fi + LTE, Volte Calling), Platinum Grey',\n",
       "  '₹20,445₹20,445\\n₹35,000₹35,000\\n\\nSave ₹14,555 (42%)Save extra with No Cost EMI',\n",
       "  'Lenovo IdeaPad Slim 3 Intel Celeron N4020 15.6-inch HD Thin and Light Laptop (4GB/256GB SSD/Windows 10/Platinum Grey/1.7Kg), 81WQ003LIN',\n",
       "  'Lenovo Tab M10 HD Tablet (10.1 inch, 2GB, 32GB, Wi-Fi Only) Slate Black',\n",
       "  '₹10,990₹10,990\\n₹18,990₹18,990\\n\\nSave ₹8,000 (42%)Save extra with Cashback',\n",
       "  'Lenovo Tab M10 HD Tablet (10.1-inch, 2GB, 32GB, Wi-Fi + 4G LTE, Volte Calling), Slate Black',\n",
       "  '₹13,490₹13,490\\n₹21,000₹21,000\\n\\nSave ₹7,510 (36%)Save extra with No Cost EMI',\n",
       "  'Lenovo Tab M10 FHD Plus Tablet (10.3-inch, 2GB, 32GB, Wi-Fi + LTE, Volte Calling), Platinum Grey',\n",
       "  'Limited time deal\\n\\n\\n\\n\\n₹13,999₹13,999\\n₹27,000₹27,000\\n\\nSave ₹13,001 (48%)Save extra with No Cost EMI',\n",
       "  'Lenovo Tab M8 HD Tablet (8-inch, 2GB, 32GB, Wi-Fi Only), Platinum Grey',\n",
       "  '₹8,499₹8,499\\n₹14,000₹14,000\\n\\nSave ₹5,501 (39%)Save extra with No Cost EMI',\n",
       "  'Lenovo A7 (Blue 4GB RAM, 64GB Internal Memory)',\n",
       "  '₹8,990₹8,990\\n₹11,999₹11,999\\n\\nSave ₹3,009 (25%)10%  Off on Citi Bank Cards',\n",
       "  'Lenovo Ideapad Slim 3 10th Gen Intel Core i5 15.6 inch FHD Thin and Light Laptop (8GB/1TB/Windows 10/MS Office/Grey/1.85Kg), 81WE004WIN',\n",
       "  '₹44,990₹44,990\\n₹66,190₹66,190\\n\\nSave ₹21,200 (32%)Save extra with No Cost EMI',\n",
       "  'Lenovo A7 (Black, 4GB RAM, 64GB Storage, 4000mAh Battery)',\n",
       "  '₹8,970₹8,970\\n₹11,990₹11,990\\n\\nSave ₹3,020 (25%)10%  Off on Citi Bank Cards',\n",
       "  'Lenovo Ideapad Slim 3 AMD Ryzen 3 15.6 inch Full HD Thin and Light Laptop (4GB/1TB HDD/Windows 10/MS Office 2019/Platinum Grey/1.85Kg), 81W10057IN',\n",
       "  '₹31,490₹31,490\\n₹37,990₹37,990\\n\\nSave ₹6,500 (17%)Save extra with Cashback',\n",
       "  'Lenovo Yoga Smart Tablet with The Google Assistant 25.65 cm (10.1 inch, 4GB, 64GB, WiFi + 4G LTE), Iron Grey',\n",
       "  '₹20,999₹20,999\\n₹35,500₹35,500\\n\\nSave ₹14,501 (41%)Save extra with No Cost EMI',\n",
       "  'LenovoTM 300 FHD Webcam with Full Stereo Dual Built-in mics | FHD 1080P 2.1 Megapixel CMOS Camera |Ultra-Wide 95° Lens, 4X Digital Zoom | 360° Rotation | Flexible Mount (GXC1B34793)',\n",
       "  '₹2,775₹2,775\\n₹5,310₹5,310\\n\\nSave ₹2,535 (48%)Save extra with No Cost EMI',\n",
       "  'Lenovo Tab M10 FHD Plus (2nd Gen) (10.3 inch, 4 GB, 128 GB, Wi-Fi+ LTE) with Active Pen',\n",
       "  '₹22,999₹22,999\\n₹39,000₹39,000\\n\\nSave ₹16,001 (41%)Save extra with No Cost EMI',\n",
       "  'Lenovo 54.6 cm (21.5 inch) Near Edgeless Monitor with LED Display, VA Panel, AMD Free Synch, HDMI and VGA inputs, TUV Certified Eye Comfort - L22e-20 (Raven Black)',\n",
       "  '₹7,679₹7,679\\n₹10,490₹10,490\\n\\nSave ₹2,811 (27%)Save extra with No Cost EMI',\n",
       "  'Lenovo GX20L29764 65W Laptop Adapter/Charger with Power Cord for Select Models of Lenovo (Round pin)',\n",
       "  '₹1,285₹1,285\\n₹2,796₹2,796\\n\\nSave ₹1,511 (54%)Save extra with Cashback',\n",
       "  'Lenovo 400 Wireless Mouse, 1200DPI Optical Sensor, 2.4GHz Wireless Nano USB, 3-Button (Left,Right,Scroll) Upto 8M Left/Right & 100K Scroll clicks & 1yr Battery, Ambidextrous, Ergonomic GY50R91293',\n",
       "  '₹699₹699\\n₹1,387₹1,387\\n\\nSave ₹688 (50%)Save extra with Cashback'],\n",
       " 'rule_oldg': ['Lenovo Tab M10 FHD Plus Tablet (10.3-inch, 4GB, 128GB, Wi-Fi + LTE, Volte Calling), Platinum Grey',\n",
       "  'Lenovo IdeaPad Slim 3 Intel Celeron N4020 15.6-inch HD Thin and Light Laptop (4GB/256GB SSD/Windows 10/Platinum Grey/1.7Kg...',\n",
       "  'Lenovo Tab M10 HD Tablet (10.1 inch, 2GB, 32GB, Wi-Fi Only) Slate Black',\n",
       "  'Lenovo Tab M10 HD Tablet (10.1-inch, 2GB, 32GB, Wi-Fi + 4G LTE, Volte Calling), Slate Black',\n",
       "  'Lenovo Tab M10 FHD Plus Tablet (10.3-inch, 2GB, 32GB, Wi-Fi + LTE, Volte Calling), Platinum Grey',\n",
       "  'Lenovo Tab M8 HD Tablet (8-inch, 2GB, 32GB, Wi-Fi Only), Platinum Grey',\n",
       "  'Lenovo A7 (Blue 4GB RAM, 64GB Internal Memory)',\n",
       "  'Lenovo Ideapad Slim 3 10th Gen Intel Core i5 15.6 inch FHD Thin and Light Laptop (8GB/1TB/Windows 10/MS Office/Grey/1.85Kg...',\n",
       "  'Lenovo A7 (Black, 4GB RAM, 64GB Storage, 4000mAh Battery)',\n",
       "  'Lenovo Ideapad Slim 3 AMD Ryzen 3 15.6 inch Full HD Thin and Light Laptop (4GB/1TB HDD/Windows 10/MS Office 2019/Platinum ...',\n",
       "  'Lenovo Yoga Smart Tablet with The Google Assistant 25.65 cm (10.1 inch, 4GB, 64GB, WiFi + 4G LTE), Iron Grey',\n",
       "  'LenovoTM 300 FHD Webcam with Full Stereo Dual Built-in mics | FHD 1080P 2.1 Megapixel CMOS Camera |Ultra-Wide 95° Lens, 4X ...',\n",
       "  'Lenovo Tab M10 FHD Plus (2nd Gen) (10.3 inch, 4 GB, 128 GB, Wi-Fi+ LTE) with Active Pen',\n",
       "  'Lenovo 54.6 cm (21.5 inch) Near Edgeless Monitor with LED Display, VA Panel, AMD Free Synch, HDMI and VGA inputs, TUV Cert...',\n",
       "  'Lenovo GX20L29764 65W Laptop Adapter/Charger with Power Cord for Select Models of Lenovo (Round pin)',\n",
       "  'Lenovo 400 Wireless Mouse, 1200DPI Optical Sensor, 2.4GHz Wireless Nano USB, 3-Button (Left,Right,Scroll) Upto 8M Left/Rig...'],\n",
       " 'rule_ruwv': ['Lenovo IdeaPad Flex 5 11th Gen Intel Core i3 14-inch FHD IPS 2-in-1 Touchscreen Laptop (8GB/256GB SSD/Win 10/Office 2019/Lenovo Digital Pen Stylus/Fingerprint Reader/Graphite Grey/1.5Kg), 82HS008YIN',\n",
       "  'Lenovo Tab M10 FHD Plus (2nd Gen) (10.3 inch, 4 GB, 128 GB, Wi-Fi+ LTE) with Active Pen',\n",
       "  'Lenovo IdeaPad Slim 5 11th Gen Intel Core i5 14\" FHD IPS Thin & Light Laptop (8GB/512GB SSD/Win 10/Office/Intel Iris Xe Graphics/Fingerprint Reader/Graphite Grey/Aluminium Surface/1.39Kg), 82FE00K0IN',\n",
       "  'Lenovo IdeaPad Flex 5 11th Gen Intel Core i5 14-inch FHD IPS 2-in-1 Touchscreen Laptop (8GB/512GB SSD/Win 10/Office 2019/Lenovo Digital Pen Stylus/Fingerprint Reader/Graphite Grey/1.5Kg), 82HS009HIN',\n",
       "  'Lenovo IdeaPad Flex 5 11th Gen Intel Core i7 14-inch FHD IPS 2-in-1 Touchscreen Laptop (16GB/512GB SSD/Win 10/Office 2019/Lenovo Digital Pen Stylus/Fingerprint Reader/Graphite Grey/1.5Kg), 82HS0092IN',\n",
       "  'Lenovo Yoga 6 AMD Ryzen 7 4700U 13.3-inch Full HD IPS 2-in-1 Touchscreen Laptop (16GB/512GB SSD/Windows 10/MS Office 2019/Fingerprint Reader/Abyss Blue/Fabric Surface/1.32Kg), 82FN004QIN',\n",
       "  'Lenovo Legion 5 AMD Ryzen 7 4800H 15.6-inch FHD Gaming Laptop (16GB/1TB HDD + 256GB SSD/Win 10/Office/144 Hz/NVIDIA RTX 2060 6GB GDDR6 Graphics/M300 RGB Gaming Mouse/Phantom Black/2.46 Kg), 82B100AVIN',\n",
       "  'Lenovo IdeaPad Flex 5 11th Gen Intel Core i3 14-inch FHD IPS 2-in-1 Touchscreen Laptop (8GB/512GB SSD/Win 10/Office 2019/Lenovo Digital Pen Stylus/Fingerprint Reader/Graphite Grey/1.5Kg), 82HS009GIN'],\n",
       " 'rule_5wpe': ['Lenovo IdeaPad Flex 5 11th Gen Intel Core i3 14-inch FHD IPS 2-in-1 Touchscreen Laptop (8GB/256GB SSD/Win 10/Office 2019/L...',\n",
       "  'Lenovo Tab M10 FHD Plus (2nd Gen) (10.3 inch, 4 GB, 128 GB, Wi-Fi+ LTE) with Active Pen',\n",
       "  'Lenovo IdeaPad Slim 5 11th Gen Intel Core i5 14',\n",
       "  'Lenovo IdeaPad Flex 5 11th Gen Intel Core i5 14-inch FHD IPS 2-in-1 Touchscreen Laptop (8GB/512GB SSD/Win 10/Office 2019/L...',\n",
       "  'Lenovo IdeaPad Flex 5 11th Gen Intel Core i7 14-inch FHD IPS 2-in-1 Touchscreen Laptop (16GB/512GB SSD/Win 10/Office 2019/...',\n",
       "  'Lenovo Yoga 6 AMD Ryzen 7 4700U 13.3-inch Full HD IPS 2-in-1 Touchscreen Laptop (16GB/512GB SSD/Windows 10/MS Office 2019/...',\n",
       "  'Lenovo Legion 5 AMD Ryzen 7 4800H 15.6-inch FHD Gaming Laptop (16GB/1TB HDD + 256GB SSD/Win 10/Office/144 Hz/NVIDIA RTX 20...',\n",
       "  'Lenovo IdeaPad Flex 5 11th Gen Intel Core i3 14-inch FHD IPS 2-in-1 Touchscreen Laptop (8GB/512GB SSD/Win 10/Office 2019/L...']}"
      ]
     },
     "execution_count": 5,
     "metadata": {},
     "output_type": "execute_result"
    }
   ],
   "source": [
    "scraper.get_result_similar(\"https://www.amazon.in/s?k=lenovo&ref=nb_sb_noss_2\",grouped=True)"
   ]
  },
  {
   "cell_type": "code",
   "execution_count": 6,
   "metadata": {},
   "outputs": [],
   "source": [
    "scraper.set_rule_aliases({'rule_oszo':'Price And Savings','rule_5wpe': 'Laptop'})\n",
    "scraper.keep_rules(['rule_oszo','rule_5wpe'])"
   ]
  },
  {
   "cell_type": "code",
   "execution_count": 7,
   "metadata": {
    "collapsed": true
   },
   "outputs": [
    {
     "data": {
      "text/plain": [
       "{'Price And Savings': ['Lenovo IdeaPad Slim 3 Intel Celeron N4020 15.6-inch HD Thin and Light Laptop (4GB/256GB SSD/Windows 10/Platinum Grey/1.7Kg), 81WQ003LIN',\n",
       "  'Lenovo Tab M10 FHD Plus Tablet (10.3-inch, 4GB, 128GB, Wi-Fi + LTE, Volte Calling), Platinum Grey',\n",
       "  '₹20,445₹20,445\\n₹35,000₹35,000\\n\\nSave ₹14,555 (42%)Save extra with No Cost EMI',\n",
       "  'Lenovo Ideapad Slim 3 AMD Ryzen 3 15.6 inch Full HD Thin and Light Laptop (4GB/1TB HDD/Windows 10/MS Office 2019/Platinum Grey/1.85Kg), 81W10057IN',\n",
       "  '₹31,490₹31,490\\n₹37,990₹37,990\\n\\nSave ₹6,500 (17%)Save extra with Cashback',\n",
       "  'Lenovo Ideapad Slim 3 10th Gen Intel Core i5 15.6 inch FHD Thin and Light Laptop (8GB/1TB/Windows 10/MS Office/Grey/1.85Kg), 81WE004WIN',\n",
       "  '₹44,990₹44,990\\n₹66,190₹66,190\\n\\nSave ₹21,200 (32%)Save extra with No Cost EMI',\n",
       "  'Lenovo Tab M10 HD Tablet (10.1 inch, 2GB, 32GB, Wi-Fi Only) Slate Black',\n",
       "  '₹10,990₹10,990\\n₹18,990₹18,990\\n\\nSave ₹8,000 (42%)Save extra with Cashback',\n",
       "  'Lenovo Tab M8 2nd Gen Tablet (8-inch, 2GB, 32GB, Wi-Fi + LTE + Calling), Iron Grey',\n",
       "  '₹9,979₹9,979\\n₹16,000₹16,000\\n\\nSave ₹6,021 (38%)Save extra with No Cost EMI',\n",
       "  'Lenovo Tab M10 FHD Plus (2nd Gen) (10.3 inch, 4 GB, 128 GB, Wi-Fi+ LTE) with Active Pen',\n",
       "  '₹22,999₹22,999\\n₹39,000₹39,000\\n\\nSave ₹16,001 (41%)Save extra with No Cost EMI',\n",
       "  'Lenovo Tab M10 HD Tablet (10.1-inch, 2GB, 32GB, Wi-Fi + 4G LTE, Volte Calling), Slate Black',\n",
       "  '₹13,490₹13,490\\n₹21,000₹21,000\\n\\nSave ₹7,510 (36%)Save extra with No Cost EMI',\n",
       "  'Lenovo Ideapad S145 AMD A6-9225 15.6 inch HD Thin and Light Laptop (4GB/1TB/Windows 10/Grey/1.85Kg), 81N30063IN',\n",
       "  'Lenovo A7 (Blue 4GB RAM, 64GB Internal Memory)',\n",
       "  '₹8,990₹8,990\\n₹11,999₹11,999\\n\\nSave ₹3,009 (25%)10%  Off on Citi Bank Cards',\n",
       "  'Lenovo Ideapad S145 AMD RYZEN 3 3200U 15.6-inch FHD Laptop (4GB/1TB/Windows 10/Office 2019/Grey/1.85Kg),81UT001CIN',\n",
       "  '₹29,990₹29,990\\n₹36,590₹36,590\\n\\nSave ₹6,600 (18%)Save extra with No Cost EMI',\n",
       "  'Lenovo Legion 5 AMD Ryzen 5 4600H 15.6 inch Full HD Gaming Laptop (8GB/1TB HDD + 256GB SSD/Windows 10/120 Hz/NVIDIA GTX 1650 4GB GDDR6 Graphics/Phantom Black/2.3Kg), 82B500BHIN',\n",
       "  '₹67,990₹67,990\\n₹91,790₹91,790\\n\\nSave ₹23,800 (26%)Save extra with No Cost EMI',\n",
       "  'Lenovo Legion 5 AMD Ryzen 7 4800H 15.6-inch FHD Gaming Laptop (16GB/1TB HDD + 256GB SSD/Win 10/Office/144 Hz/NVIDIA RTX 2060 6GB GDDR6 Graphics/M300 RGB Gaming Mouse/Phantom Black/2.46 Kg), 82B100AVIN',\n",
       "  '₹1,19,990₹1,19,990\\n₹1,49,990₹1,49,990\\n\\nSave ₹30,000 (20%)Save extra with No Cost EMI',\n",
       "  'Lenovo Tab M8 HD Tablet (8-inch, 2GB, 32GB, Wi-Fi Only), Platinum Grey',\n",
       "  '₹8,499₹8,499\\n₹14,000₹14,000\\n\\nSave ₹5,501 (39%)Save extra with No Cost EMI',\n",
       "  'Lenovo Ideapad Slim 3 AMD Ryzen 3 15.6 inch FHD Thin and Light Laptop (4GB/1TB/Windows 10/MS Office/Grey/1.85Kg), 81W10052IN',\n",
       "  '₹29,490₹29,490\\n₹36,990₹36,990\\n\\nSave ₹7,500 (20%)Save extra with No Cost EMI',\n",
       "  'Lenovo GX20L29764 65W Laptop Adapter/Charger with Power Cord for Select Models of Lenovo (Round pin)',\n",
       "  '₹1,285₹1,285\\n₹2,796₹2,796\\n\\nSave ₹1,511 (54%)Save extra with Cashback'],\n",
       " 'Laptop': ['Lenovo IdeaPad Flex 5 11th Gen Intel Core i3 14-inch FHD IPS 2-in-1 Touchscreen Laptop (8GB/256GB SSD/Win 10/Office 2019/L...',\n",
       "  'Lenovo Tab M10 FHD Plus (2nd Gen) (10.3 inch, 4 GB, 128 GB, Wi-Fi+ LTE) with Active Pen',\n",
       "  'Lenovo IdeaPad Slim 5 11th Gen Intel Core i5 14',\n",
       "  'Lenovo IdeaPad Flex 5 11th Gen Intel Core i5 14-inch FHD IPS 2-in-1 Touchscreen Laptop (8GB/512GB SSD/Win 10/Office 2019/L...',\n",
       "  'Lenovo IdeaPad Flex 5 11th Gen Intel Core i7 14-inch FHD IPS 2-in-1 Touchscreen Laptop (16GB/512GB SSD/Win 10/Office 2019/...',\n",
       "  'Lenovo Yoga 6 AMD Ryzen 7 4700U 13.3-inch Full HD IPS 2-in-1 Touchscreen Laptop (16GB/512GB SSD/Windows 10/MS Office 2019/...',\n",
       "  'Lenovo Legion 5 AMD Ryzen 7 4800H 15.6-inch FHD Gaming Laptop (16GB/1TB HDD + 256GB SSD/Win 10/Office/144 Hz/NVIDIA RTX 20...',\n",
       "  'Lenovo IdeaPad Flex 5 11th Gen Intel Core i3 14-inch FHD IPS 2-in-1 Touchscreen Laptop (8GB/512GB SSD/Win 10/Office 2019/L...']}"
      ]
     },
     "execution_count": 7,
     "metadata": {},
     "output_type": "execute_result"
    }
   ],
   "source": [
    "result=scraper.get_result_similar(\"https://www.amazon.in/s?k=lenovo&ref=nb_sb_noss_2\",group_by_alias=True)\n",
    "result"
   ]
  },
  {
   "cell_type": "code",
   "execution_count": null,
   "metadata": {},
   "outputs": [],
   "source": []
  }
 ],
 "metadata": {
  "kernelspec": {
   "display_name": "Python 3",
   "language": "python",
   "name": "python3"
  },
  "language_info": {
   "codemirror_mode": {
    "name": "ipython",
    "version": 3
   },
   "file_extension": ".py",
   "mimetype": "text/x-python",
   "name": "python",
   "nbconvert_exporter": "python",
   "pygments_lexer": "ipython3",
   "version": "3.7.1"
  }
 },
 "nbformat": 4,
 "nbformat_minor": 5
}
